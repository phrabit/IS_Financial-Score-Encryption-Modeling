{
 "cells": [
  {
   "cell_type": "markdown",
   "id": "93a3d3a9",
   "metadata": {},
   "source": [
    "## User input data guideline for 18 features\n",
    "\n",
    "From 01. Gender : [Male : 0, Femail: 1]\n",
    "\n",
    "To 18. Occupation_type: [ ]"
   ]
  },
  {
   "cell_type": "code",
   "execution_count": 1,
   "id": "f5e9d2e4",
   "metadata": {},
   "outputs": [],
   "source": [
    "import os\n",
    "import piheaan as heaan\n",
    "import pandas as pd\n",
    "import numpy as np\n",
    "from sklearn.ensemble import RandomForestRegressor\n",
    "from sklearn.ensemble import RandomForestClassifier"
   ]
  },
  {
   "cell_type": "markdown",
   "id": "58ab93fb",
   "metadata": {},
   "source": [
    "## Create an input window to enter 18 variables"
   ]
  },
  {
   "cell_type": "code",
   "execution_count": null,
   "id": "495dd733",
   "metadata": {},
   "outputs": [],
   "source": [
    "import sys\n",
    "from PyQt5.QtWidgets import QApplication, QWidget, QVBoxLayout, QLabel, QLineEdit, QPushButton, QScrollArea\n",
    "\n",
    "class InputWindow(QWidget):\n",
    "    def __init__(self, questions):\n",
    "        super().__init__()\n",
    "        self.questions = questions\n",
    "        self.user_input = []\n",
    "        self.user_input_value = []\n",
    "        self.initUI()\n",
    "\n",
    "    def initUI(self):\n",
    "        scroll_area = QScrollArea()\n",
    "        scroll_area.setWidgetResizable(True)\n",
    "        content_widget = QWidget()\n",
    "        layout = QVBoxLayout(content_widget)\n",
    "\n",
    "        for title, prompt in self.questions:\n",
    "            label = QLabel(f\"{title}\\n{prompt}\")\n",
    "            layout.addWidget(label)\n",
    "            line_edit = QLineEdit()\n",
    "            layout.addWidget(line_edit)\n",
    "            self.user_input.append(line_edit)\n",
    "\n",
    "        submit_button = QPushButton(\"Submit\")\n",
    "        submit_button.clicked.connect(self.onSubmit)\n",
    "        layout.addWidget(submit_button)\n",
    "\n",
    "        scroll_area.setWidget(content_widget)\n",
    "        main_layout = QVBoxLayout(self)\n",
    "        main_layout.addWidget(scroll_area)\n",
    "        self.setLayout(main_layout)\n",
    "        self.setWindowTitle(\"User Input\")\n",
    "        self.resize(400, 600)  # 창의 크기 조정\n",
    "        self.show()\n",
    "\n",
    "    def onSubmit(self):\n",
    "        user_input = []\n",
    "        for line_edit in self.user_input:\n",
    "            value = line_edit.text()\n",
    "            user_input.append(float(value))\n",
    "        self.user_input_value = user_input\n",
    "        self.close()\n",
    "\n",
    "if __name__ == \"__main__\":\n",
    "    questions = [\n",
    "        (\"What is your Gender?\", \"[Male : 0, Female : 1]\"),\n",
    "        (\"Do you have your own car?\", \"[No : 0, Yes : 1]\"),\n",
    "        (\"Do you have your own property?\", \"[No : 0, Yes : 1]\"),\n",
    "        (\"Do you have your own phone for workplace?\", \"[No : 0, Yes : 1]\"),\n",
    "        (\"Do you have your own phone for dailylife?\", \"[No : 0, Yes : 1]\"),\n",
    "        (\"Do you have your own E-mail?\", \"[No : 0, Yes : 1]\"),\n",
    "        (\"Do you have your own job?\", \"[No : 0, Yes : 1]\"),\n",
    "        (\"How many children do you have?\", \"[Number of Children : 0, 1, 2...]\"),\n",
    "        (\"How many family members do you have?\", \"[Number of Family member : 0, 1, 2...]\"),\n",
    "        (\"When did you start to make transaction in this account?\", \"[Length of transaction period : 0,1,2...]\"),\n",
    "        (\"What is amount of your total income?\", \"[Amount of total income : 1000,2000,3000...]\"),\n",
    "        (\"What is your age?\", \"[Your own age : 20,25,30...]\"),\n",
    "        (\"How long have you been employted?\", \"[Year that you are employed : 10, 15, 20...]\"),\n",
    "        (\"What is your income type?\", \"['Commercial associate': 0, 'Pensioner': 1, 'State servant': 2, 'Student': 3, 'Working': 4]\"),\n",
    "        (\"What is your educational type?\", \"['Academic degree': 0, 'Higher education': 1, 'Incomplete higher': 2, 'Lower secondary': 3, 'Secondary / secondary special': 4]\"),\n",
    "        (\"What is your family status?\", \"['Civil marriage': 0, 'Married': 1, 'Separated': 2, 'Single / not married': 3, 'Widow': 4]\"),\n",
    "        (\"What is your housing type?\", \"['Co-op apartment': 0, 'House / apartment': 1, 'Municipal apartment': 2, 'Office apartment': 3, 'Rented apartment': 4, 'With parents': 5]\"),\n",
    "        (\"What is your occupation type?\", \"['Accountants': 0, 'Cleaning staff': 1, 'Cooking staff': 2, 'Core staff': 3, 'Drivers': 4, 'HR staff': 5, 'High skill tech staff': 6, 'IT staff': 7, 'Laborers': 8, 'Low-skill Laborers': 9, 'Managers': 10, 'Medicine staff': 11, 'Other': 12, 'Private service staff': 13, 'Realty agents': 14, 'Sales staff': 15, 'Secretaries': 16, 'Security staff': 17, 'Waiters/barmen staff': 18]\")\n",
    "    ]\n",
    "\n",
    "    app = QApplication(sys.argv)\n",
    "    window = InputWindow(questions)\n",
    "    sys.exit(app.exec_())"
   ]
  },
  {
   "cell_type": "markdown",
   "id": "1939acb9",
   "metadata": {},
   "source": [
    "## User input data encryption"
   ]
  },
  {
   "cell_type": "code",
   "execution_count": 4,
   "id": "6ff9c995",
   "metadata": {},
   "outputs": [],
   "source": [
    "# Create a key using the key generator\n",
    "params = heaan.ParameterPreset.FGb\n",
    "context = heaan.make_context(params)\n",
    "heaan.make_bootstrappable(context)\n",
    "\n",
    "KEY_FILE_PATH = \"./keys\"\n",
    "\n",
    "sk = heaan.SecretKey(context)\n",
    "os.makedirs(KEY_FILE_PATH, mode=0x1ed, exist_ok=True)\n",
    "sk.save(KEY_FILE_PATH + \"/secretkey.bin\")\n",
    "\n",
    "key_generator = heaan.KeyGenerator(context, sk)\n",
    "key_generator.gen_common_keys()\n",
    "key_generator.save(KEY_FILE_PATH + \"/\")\n",
    "\n",
    "# Key Load\n",
    "pk = heaan.KeyPack(context, KEY_FILE_PATH + \"/\")\n",
    "pk.load_enc_key()\n",
    "pk.load_mult_key()\n",
    "\n",
    "enc = heaan.Encryptor(context)\n",
    "\n",
    "LOG_SLOTS = 15  \n",
    "NUM_SLOTS = 2**LOG_SLOTS\n",
    "\n",
    "# Encrypts user-entered data and stores it in a vector in user_data_ctx\n",
    "msg = heaan.Message(LOG_SLOTS)\n",
    "\n",
    "for i in range(len(window.user_input_value)):\n",
    "    msg[i] = window.user_input_value[i]\n",
    "\n",
    "user_data_ctx = heaan.Ciphertext(context)\n",
    "enc.encrypt(msg, pk, user_data_ctx)"
   ]
  },
  {
   "cell_type": "markdown",
   "id": "1952a30c",
   "metadata": {},
   "source": [
    "## get its own Feature_importance and encrypt it\n",
    "\n",
    "- Get Feature_importance, but there are about 10,000 in training_data and test_data, excluding ID and target columns, so get its own Feature_importance and encrypt it"
   ]
  },
  {
   "cell_type": "code",
   "execution_count": 5,
   "id": "8ad4eeba",
   "metadata": {},
   "outputs": [
    {
     "name": "stderr",
     "output_type": "stream",
     "text": [
      "C:\\ProgramData\\Anaconda3\\lib\\site-packages\\sklearn\\utils\\validation.py:623: FutureWarning: is_sparse is deprecated and will be removed in a future version. Check `isinstance(dtype, pd.SparseDtype)` instead.\n",
      "  if not hasattr(array, \"sparse\") and array.dtypes.apply(is_sparse).any():\n",
      "C:\\ProgramData\\Anaconda3\\lib\\site-packages\\sklearn\\utils\\validation.py:623: FutureWarning: is_sparse is deprecated and will be removed in a future version. Check `isinstance(dtype, pd.SparseDtype)` instead.\n",
      "  if not hasattr(array, \"sparse\") and array.dtypes.apply(is_sparse).any():\n",
      "C:\\TempFolder\\ipykernel_8756\\2478523036.py:7: DataConversionWarning: A column-vector y was passed when a 1d array was expected. Please change the shape of y to (n_samples,), for example using ravel().\n",
      "  rf.fit(X_data, y_data)\n"
     ]
    }
   ],
   "source": [
    "# Load the data\n",
    "X_data = pd.read_csv('X_data.csv')\n",
    "y_data = pd.read_csv('y_data.csv')\n",
    "\n",
    "# Learn RF models with plaintext data and obtain feature_importance\n",
    "rf = RandomForestClassifier(n_estimators=100, max_depth=10, random_state=42)\n",
    "rf.fit(X_data, y_data)\n",
    "\n",
    "# Weighted value encryption\n",
    "weights_msg = heaan.Message(LOG_SLOTS)\n",
    "for i, value in enumerate(rf.feature_importances_):\n",
    "    weights_msg[i] = float(value)\n",
    "\n",
    "weights_ctx = heaan.Ciphertext(context)\n",
    "enc.encrypt(weights_msg, pk, weights_ctx)"
   ]
  },
  {
   "cell_type": "markdown",
   "id": "2247fb14",
   "metadata": {},
   "source": [
    "## Find and decrypt a new customer's financial score by performing weight and input_data isomorphic cryptography operations"
   ]
  },
  {
   "cell_type": "code",
   "execution_count": 10,
   "id": "c14d782f",
   "metadata": {},
   "outputs": [
    {
     "name": "stdout",
     "output_type": "stream",
     "text": [
      "Financial Score: (323.57912837712286+0j)\n"
     ]
    }
   ],
   "source": [
    "# Calculate financial scores with isomorphic computation\n",
    "eval = heaan.HomEvaluator(context, pk)\n",
    "dec = heaan.Decryptor(context)\n",
    "\n",
    "score_ctx = heaan.Ciphertext(context) # Create empty ciphertext\n",
    "result = heaan.Ciphertext(context)\n",
    "\n",
    "# Multiply the first attribute by the weight and store it in score_ctx\n",
    "# Multiply the remaining attributes and weights, and add them to the score_ctx\n",
    "tmp = heaan.Ciphertext(context)\n",
    "eval.mult(user_data_ctx, weights_ctx, tmp)\n",
    "eval.add(score_ctx, tmp, score_ctx)\n",
    "eval.left_rotate_reduce(score_ctx, 1, NUM_SLOTS, result)\n",
    "\n",
    "# Decrypts stored financial scores as a result of the operation\n",
    "score_msg = heaan.Message(LOG_SLOTS)\n",
    "dec.decrypt(result, sk, score_msg)\n",
    "\n",
    "# print(\"Financial Score:\", score_msg) - All arrays to be printed\n",
    "print(\"Financial Score:\", score_msg[0])"
   ]
  },
  {
   "cell_type": "code",
   "execution_count": null,
   "id": "048a7c76",
   "metadata": {},
   "outputs": [],
   "source": []
  }
 ],
 "metadata": {
  "kernelspec": {
   "display_name": "Python 3 (ipykernel)",
   "language": "python",
   "name": "python3"
  },
  "language_info": {
   "codemirror_mode": {
    "name": "ipython",
    "version": 3
   },
   "file_extension": ".py",
   "mimetype": "text/x-python",
   "name": "python",
   "nbconvert_exporter": "python",
   "pygments_lexer": "ipython3",
   "version": "3.9.13"
  }
 },
 "nbformat": 4,
 "nbformat_minor": 5
}
