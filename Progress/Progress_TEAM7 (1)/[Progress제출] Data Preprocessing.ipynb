{
 "cells": [
  {
   "cell_type": "markdown",
   "id": "07bf23f9",
   "metadata": {
    "papermill": {
     "duration": 0.037812,
     "end_time": "2022-03-09T17:36:42.730468",
     "exception": false,
     "start_time": "2022-03-09T17:36:42.692656",
     "status": "completed"
    },
    "tags": []
   },
   "source": [
    "# Intro"
   ]
  },
  {
   "cell_type": "markdown",
   "id": "d69e072f",
   "metadata": {
    "papermill": {
     "duration": 0.034356,
     "end_time": "2022-03-09T17:36:42.800519",
     "exception": false,
     "start_time": "2022-03-09T17:36:42.766163",
     "status": "completed"
    },
    "tags": []
   },
   "source": [
    "In this notebook you will see how I cleaned data from this [dataset](https://www.kaggle.com/rikdifos/credit-card-approval-prediction) on credit cards to create a clean, easier to use version. You can find the resulting dataset [here](https://www.kaggle.com/samuelcortinhas/credit-card-classification-clean-data)."
   ]
  },
  {
   "cell_type": "markdown",
   "id": "abd0f71d",
   "metadata": {
    "papermill": {
     "duration": 0.035681,
     "end_time": "2022-03-09T17:36:42.871446",
     "exception": false,
     "start_time": "2022-03-09T17:36:42.835765",
     "status": "completed"
    },
    "tags": []
   },
   "source": [
    "# Libraries"
   ]
  },
  {
   "cell_type": "code",
   "execution_count": 1,
   "id": "bbd2f8f5",
   "metadata": {
    "execution": {
     "iopub.execute_input": "2022-03-09T17:36:42.961203Z",
     "iopub.status.busy": "2022-03-09T17:36:42.951873Z",
     "iopub.status.idle": "2022-03-09T17:36:45.985578Z",
     "shell.execute_reply": "2022-03-09T17:36:45.984787Z",
     "shell.execute_reply.started": "2022-03-09T16:41:35.806715Z"
    },
    "papermill": {
     "duration": 3.077132,
     "end_time": "2022-03-09T17:36:45.985854",
     "exception": false,
     "start_time": "2022-03-09T17:36:42.908722",
     "status": "completed"
    },
    "tags": []
   },
   "outputs": [],
   "source": [
    "# Core\n",
    "import numpy as np\n",
    "import pandas as pd\n",
    "import matplotlib.pyplot as plt\n",
    "%matplotlib inline\n",
    "import seaborn as sns\n",
    "sns.set(style='darkgrid', font_scale=1.4)\n",
    "from imblearn.over_sampling import SMOTE\n",
    "import itertools\n",
    "\n",
    "# Sklearn\n",
    "from sklearn.model_selection import train_test_split\n",
    "from sklearn.metrics import accuracy_score, confusion_matrix, recall_score, precision_score, f1_score, roc_auc_score\n",
    "from sklearn.linear_model import LogisticRegression\n",
    "from sklearn.tree import DecisionTreeClassifier\n",
    "from sklearn.preprocessing import StandardScaler, MinMaxScaler, OneHotEncoder, LabelEncoder\n",
    "from sklearn.feature_selection import mutual_info_classif\n",
    "\n",
    "from sklearn.ensemble import RandomForestClassifier"
   ]
  },
  {
   "cell_type": "markdown",
   "id": "65cc1393",
   "metadata": {
    "papermill": {
     "duration": 0.035614,
     "end_time": "2022-03-09T17:36:46.058029",
     "exception": false,
     "start_time": "2022-03-09T17:36:46.022415",
     "status": "completed"
    },
    "tags": []
   },
   "source": [
    "# Data"
   ]
  },
  {
   "cell_type": "code",
   "execution_count": 2,
   "id": "8c106b50",
   "metadata": {
    "execution": {
     "iopub.execute_input": "2022-03-09T17:36:46.136203Z",
     "iopub.status.busy": "2022-03-09T17:36:46.135086Z",
     "iopub.status.idle": "2022-03-09T17:36:48.143877Z",
     "shell.execute_reply": "2022-03-09T17:36:48.143224Z",
     "shell.execute_reply.started": "2022-03-09T16:41:35.819371Z"
    },
    "papermill": {
     "duration": 2.049488,
     "end_time": "2022-03-09T17:36:48.144020",
     "exception": false,
     "start_time": "2022-03-09T17:36:46.094532",
     "status": "completed"
    },
    "tags": []
   },
   "outputs": [
    {
     "name": "stdout",
     "output_type": "stream",
     "text": [
      "Application record df shape: (438557, 18)\n"
     ]
    },
    {
     "data": {
      "text/html": [
       "<div>\n",
       "<style scoped>\n",
       "    .dataframe tbody tr th:only-of-type {\n",
       "        vertical-align: middle;\n",
       "    }\n",
       "\n",
       "    .dataframe tbody tr th {\n",
       "        vertical-align: top;\n",
       "    }\n",
       "\n",
       "    .dataframe thead th {\n",
       "        text-align: right;\n",
       "    }\n",
       "</style>\n",
       "<table border=\"1\" class=\"dataframe\">\n",
       "  <thead>\n",
       "    <tr style=\"text-align: right;\">\n",
       "      <th></th>\n",
       "      <th>ID</th>\n",
       "      <th>CODE_GENDER</th>\n",
       "      <th>FLAG_OWN_CAR</th>\n",
       "      <th>FLAG_OWN_REALTY</th>\n",
       "      <th>CNT_CHILDREN</th>\n",
       "      <th>AMT_INCOME_TOTAL</th>\n",
       "      <th>NAME_INCOME_TYPE</th>\n",
       "      <th>NAME_EDUCATION_TYPE</th>\n",
       "      <th>NAME_FAMILY_STATUS</th>\n",
       "      <th>NAME_HOUSING_TYPE</th>\n",
       "      <th>DAYS_BIRTH</th>\n",
       "      <th>DAYS_EMPLOYED</th>\n",
       "      <th>FLAG_MOBIL</th>\n",
       "      <th>FLAG_WORK_PHONE</th>\n",
       "      <th>FLAG_PHONE</th>\n",
       "      <th>FLAG_EMAIL</th>\n",
       "      <th>OCCUPATION_TYPE</th>\n",
       "      <th>CNT_FAM_MEMBERS</th>\n",
       "    </tr>\n",
       "  </thead>\n",
       "  <tbody>\n",
       "    <tr>\n",
       "      <th>0</th>\n",
       "      <td>5008804</td>\n",
       "      <td>M</td>\n",
       "      <td>Y</td>\n",
       "      <td>Y</td>\n",
       "      <td>0</td>\n",
       "      <td>427500.0</td>\n",
       "      <td>Working</td>\n",
       "      <td>Higher education</td>\n",
       "      <td>Civil marriage</td>\n",
       "      <td>Rented apartment</td>\n",
       "      <td>-12005</td>\n",
       "      <td>-4542</td>\n",
       "      <td>1</td>\n",
       "      <td>1</td>\n",
       "      <td>0</td>\n",
       "      <td>0</td>\n",
       "      <td>NaN</td>\n",
       "      <td>2.0</td>\n",
       "    </tr>\n",
       "    <tr>\n",
       "      <th>1</th>\n",
       "      <td>5008805</td>\n",
       "      <td>M</td>\n",
       "      <td>Y</td>\n",
       "      <td>Y</td>\n",
       "      <td>0</td>\n",
       "      <td>427500.0</td>\n",
       "      <td>Working</td>\n",
       "      <td>Higher education</td>\n",
       "      <td>Civil marriage</td>\n",
       "      <td>Rented apartment</td>\n",
       "      <td>-12005</td>\n",
       "      <td>-4542</td>\n",
       "      <td>1</td>\n",
       "      <td>1</td>\n",
       "      <td>0</td>\n",
       "      <td>0</td>\n",
       "      <td>NaN</td>\n",
       "      <td>2.0</td>\n",
       "    </tr>\n",
       "    <tr>\n",
       "      <th>2</th>\n",
       "      <td>5008806</td>\n",
       "      <td>M</td>\n",
       "      <td>Y</td>\n",
       "      <td>Y</td>\n",
       "      <td>0</td>\n",
       "      <td>112500.0</td>\n",
       "      <td>Working</td>\n",
       "      <td>Secondary / secondary special</td>\n",
       "      <td>Married</td>\n",
       "      <td>House / apartment</td>\n",
       "      <td>-21474</td>\n",
       "      <td>-1134</td>\n",
       "      <td>1</td>\n",
       "      <td>0</td>\n",
       "      <td>0</td>\n",
       "      <td>0</td>\n",
       "      <td>Security staff</td>\n",
       "      <td>2.0</td>\n",
       "    </tr>\n",
       "    <tr>\n",
       "      <th>3</th>\n",
       "      <td>5008808</td>\n",
       "      <td>F</td>\n",
       "      <td>N</td>\n",
       "      <td>Y</td>\n",
       "      <td>0</td>\n",
       "      <td>270000.0</td>\n",
       "      <td>Commercial associate</td>\n",
       "      <td>Secondary / secondary special</td>\n",
       "      <td>Single / not married</td>\n",
       "      <td>House / apartment</td>\n",
       "      <td>-19110</td>\n",
       "      <td>-3051</td>\n",
       "      <td>1</td>\n",
       "      <td>0</td>\n",
       "      <td>1</td>\n",
       "      <td>1</td>\n",
       "      <td>Sales staff</td>\n",
       "      <td>1.0</td>\n",
       "    </tr>\n",
       "    <tr>\n",
       "      <th>4</th>\n",
       "      <td>5008809</td>\n",
       "      <td>F</td>\n",
       "      <td>N</td>\n",
       "      <td>Y</td>\n",
       "      <td>0</td>\n",
       "      <td>270000.0</td>\n",
       "      <td>Commercial associate</td>\n",
       "      <td>Secondary / secondary special</td>\n",
       "      <td>Single / not married</td>\n",
       "      <td>House / apartment</td>\n",
       "      <td>-19110</td>\n",
       "      <td>-3051</td>\n",
       "      <td>1</td>\n",
       "      <td>0</td>\n",
       "      <td>1</td>\n",
       "      <td>1</td>\n",
       "      <td>Sales staff</td>\n",
       "      <td>1.0</td>\n",
       "    </tr>\n",
       "  </tbody>\n",
       "</table>\n",
       "</div>"
      ],
      "text/plain": [
       "        ID CODE_GENDER FLAG_OWN_CAR FLAG_OWN_REALTY  CNT_CHILDREN  \\\n",
       "0  5008804           M            Y               Y             0   \n",
       "1  5008805           M            Y               Y             0   \n",
       "2  5008806           M            Y               Y             0   \n",
       "3  5008808           F            N               Y             0   \n",
       "4  5008809           F            N               Y             0   \n",
       "\n",
       "   AMT_INCOME_TOTAL      NAME_INCOME_TYPE            NAME_EDUCATION_TYPE  \\\n",
       "0          427500.0               Working               Higher education   \n",
       "1          427500.0               Working               Higher education   \n",
       "2          112500.0               Working  Secondary / secondary special   \n",
       "3          270000.0  Commercial associate  Secondary / secondary special   \n",
       "4          270000.0  Commercial associate  Secondary / secondary special   \n",
       "\n",
       "     NAME_FAMILY_STATUS  NAME_HOUSING_TYPE  DAYS_BIRTH  DAYS_EMPLOYED  \\\n",
       "0        Civil marriage   Rented apartment      -12005          -4542   \n",
       "1        Civil marriage   Rented apartment      -12005          -4542   \n",
       "2               Married  House / apartment      -21474          -1134   \n",
       "3  Single / not married  House / apartment      -19110          -3051   \n",
       "4  Single / not married  House / apartment      -19110          -3051   \n",
       "\n",
       "   FLAG_MOBIL  FLAG_WORK_PHONE  FLAG_PHONE  FLAG_EMAIL OCCUPATION_TYPE  \\\n",
       "0           1                1           0           0             NaN   \n",
       "1           1                1           0           0             NaN   \n",
       "2           1                0           0           0  Security staff   \n",
       "3           1                0           1           1     Sales staff   \n",
       "4           1                0           1           1     Sales staff   \n",
       "\n",
       "   CNT_FAM_MEMBERS  \n",
       "0              2.0  \n",
       "1              2.0  \n",
       "2              2.0  \n",
       "3              1.0  \n",
       "4              1.0  "
      ]
     },
     "execution_count": 2,
     "metadata": {},
     "output_type": "execute_result"
    }
   ],
   "source": [
    "# Save to df\n",
    "applications = pd.read_csv(\"./data/application_record.csv\", encoding = 'utf-8')\n",
    "record = pd.read_csv(\"./data/credit_record.csv\", encoding = 'utf-8')\n",
    "\n",
    "# Shape and preview\n",
    "print('Application record df shape:', applications.shape)\n",
    "applications.head()"
   ]
  },
  {
   "cell_type": "code",
   "execution_count": 3,
   "id": "1fd886c9",
   "metadata": {
    "execution": {
     "iopub.execute_input": "2022-03-09T17:36:48.228453Z",
     "iopub.status.busy": "2022-03-09T17:36:48.227514Z",
     "iopub.status.idle": "2022-03-09T17:36:48.232923Z",
     "shell.execute_reply": "2022-03-09T17:36:48.232358Z",
     "shell.execute_reply.started": "2022-03-09T16:41:36.949953Z"
    },
    "papermill": {
     "duration": 0.052405,
     "end_time": "2022-03-09T17:36:48.233064",
     "exception": false,
     "start_time": "2022-03-09T17:36:48.180659",
     "status": "completed"
    },
    "tags": []
   },
   "outputs": [
    {
     "name": "stdout",
     "output_type": "stream",
     "text": [
      "Credit record df shape: (1048575, 3)\n"
     ]
    },
    {
     "data": {
      "text/html": [
       "<div>\n",
       "<style scoped>\n",
       "    .dataframe tbody tr th:only-of-type {\n",
       "        vertical-align: middle;\n",
       "    }\n",
       "\n",
       "    .dataframe tbody tr th {\n",
       "        vertical-align: top;\n",
       "    }\n",
       "\n",
       "    .dataframe thead th {\n",
       "        text-align: right;\n",
       "    }\n",
       "</style>\n",
       "<table border=\"1\" class=\"dataframe\">\n",
       "  <thead>\n",
       "    <tr style=\"text-align: right;\">\n",
       "      <th></th>\n",
       "      <th>ID</th>\n",
       "      <th>MONTHS_BALANCE</th>\n",
       "      <th>STATUS</th>\n",
       "    </tr>\n",
       "  </thead>\n",
       "  <tbody>\n",
       "    <tr>\n",
       "      <th>0</th>\n",
       "      <td>5001711</td>\n",
       "      <td>0</td>\n",
       "      <td>X</td>\n",
       "    </tr>\n",
       "    <tr>\n",
       "      <th>1</th>\n",
       "      <td>5001711</td>\n",
       "      <td>-1</td>\n",
       "      <td>0</td>\n",
       "    </tr>\n",
       "    <tr>\n",
       "      <th>2</th>\n",
       "      <td>5001711</td>\n",
       "      <td>-2</td>\n",
       "      <td>0</td>\n",
       "    </tr>\n",
       "    <tr>\n",
       "      <th>3</th>\n",
       "      <td>5001711</td>\n",
       "      <td>-3</td>\n",
       "      <td>0</td>\n",
       "    </tr>\n",
       "    <tr>\n",
       "      <th>4</th>\n",
       "      <td>5001712</td>\n",
       "      <td>0</td>\n",
       "      <td>C</td>\n",
       "    </tr>\n",
       "  </tbody>\n",
       "</table>\n",
       "</div>"
      ],
      "text/plain": [
       "        ID  MONTHS_BALANCE STATUS\n",
       "0  5001711               0      X\n",
       "1  5001711              -1      0\n",
       "2  5001711              -2      0\n",
       "3  5001711              -3      0\n",
       "4  5001712               0      C"
      ]
     },
     "execution_count": 3,
     "metadata": {},
     "output_type": "execute_result"
    }
   ],
   "source": [
    "# Shape and preview\n",
    "print('Credit record df shape:', record.shape)\n",
    "record.head()"
   ]
  },
  {
   "cell_type": "markdown",
   "id": "5caf419c",
   "metadata": {
    "papermill": {
     "duration": 0.038051,
     "end_time": "2022-03-09T17:36:48.309796",
     "exception": false,
     "start_time": "2022-03-09T17:36:48.271745",
     "status": "completed"
    },
    "tags": []
   },
   "source": [
    "**Missing values**"
   ]
  },
  {
   "cell_type": "code",
   "execution_count": 4,
   "id": "25bf6a28",
   "metadata": {
    "execution": {
     "iopub.execute_input": "2022-03-09T17:36:48.391395Z",
     "iopub.status.busy": "2022-03-09T17:36:48.390243Z",
     "iopub.status.idle": "2022-03-09T17:36:48.768625Z",
     "shell.execute_reply": "2022-03-09T17:36:48.767588Z",
     "shell.execute_reply.started": "2022-03-09T16:41:36.963527Z"
    },
    "papermill": {
     "duration": 0.420615,
     "end_time": "2022-03-09T17:36:48.768812",
     "exception": false,
     "start_time": "2022-03-09T17:36:48.348197",
     "status": "completed"
    },
    "tags": []
   },
   "outputs": [
    {
     "data": {
      "text/plain": [
       "ID                          0\n",
       "CODE_GENDER                 0\n",
       "FLAG_OWN_CAR                0\n",
       "FLAG_OWN_REALTY             0\n",
       "CNT_CHILDREN                0\n",
       "AMT_INCOME_TOTAL            0\n",
       "NAME_INCOME_TYPE            0\n",
       "NAME_EDUCATION_TYPE         0\n",
       "NAME_FAMILY_STATUS          0\n",
       "NAME_HOUSING_TYPE           0\n",
       "DAYS_BIRTH                  0\n",
       "DAYS_EMPLOYED               0\n",
       "FLAG_MOBIL                  0\n",
       "FLAG_WORK_PHONE             0\n",
       "FLAG_PHONE                  0\n",
       "FLAG_EMAIL                  0\n",
       "OCCUPATION_TYPE        134203\n",
       "CNT_FAM_MEMBERS             0\n",
       "dtype: int64"
      ]
     },
     "execution_count": 4,
     "metadata": {},
     "output_type": "execute_result"
    }
   ],
   "source": [
    "applications.isna().sum()"
   ]
  },
  {
   "cell_type": "code",
   "execution_count": 5,
   "id": "5c942b60",
   "metadata": {
    "execution": {
     "iopub.execute_input": "2022-03-09T17:36:48.850113Z",
     "iopub.status.busy": "2022-03-09T17:36:48.849445Z",
     "iopub.status.idle": "2022-03-09T17:36:48.969134Z",
     "shell.execute_reply": "2022-03-09T17:36:48.969618Z",
     "shell.execute_reply.started": "2022-03-09T16:41:37.340658Z"
    },
    "papermill": {
     "duration": 0.162064,
     "end_time": "2022-03-09T17:36:48.969829",
     "exception": false,
     "start_time": "2022-03-09T17:36:48.807765",
     "status": "completed"
    },
    "tags": []
   },
   "outputs": [
    {
     "data": {
      "text/plain": [
       "ID                0\n",
       "MONTHS_BALANCE    0\n",
       "STATUS            0\n",
       "dtype: int64"
      ]
     },
     "execution_count": 5,
     "metadata": {},
     "output_type": "execute_result"
    }
   ],
   "source": [
    "record.isna().sum()"
   ]
  },
  {
   "cell_type": "markdown",
   "id": "57d063d9",
   "metadata": {
    "papermill": {
     "duration": 0.042681,
     "end_time": "2022-03-09T17:36:49.050925",
     "exception": false,
     "start_time": "2022-03-09T17:36:49.008244",
     "status": "completed"
    },
    "tags": []
   },
   "source": [
    "**Duplicates**"
   ]
  },
  {
   "cell_type": "code",
   "execution_count": 6,
   "id": "a18fb3a4",
   "metadata": {
    "execution": {
     "iopub.execute_input": "2022-03-09T17:36:49.130328Z",
     "iopub.status.busy": "2022-03-09T17:36:49.129337Z",
     "iopub.status.idle": "2022-03-09T17:36:50.363381Z",
     "shell.execute_reply": "2022-03-09T17:36:50.363887Z",
     "shell.execute_reply.started": "2022-03-09T16:41:37.460817Z"
    },
    "papermill": {
     "duration": 1.275302,
     "end_time": "2022-03-09T17:36:50.364053",
     "exception": false,
     "start_time": "2022-03-09T17:36:49.088751",
     "status": "completed"
    },
    "tags": []
   },
   "outputs": [
    {
     "name": "stdout",
     "output_type": "stream",
     "text": [
      "Duplicates in applications df: 348472, (79.5%)\n",
      "\n",
      "Duplicates in record df: 0, (0.0%)\n"
     ]
    }
   ],
   "source": [
    "print(f'Duplicates in applications df: {applications.iloc[:,1:].duplicated().sum()}, ({np.round(100*applications.iloc[:,1:].duplicated().sum()/len(applications),1)}%)')\n",
    "print('')\n",
    "print(f'Duplicates in record df: {record.duplicated().sum()}, ({np.round(100*record.duplicated().sum()/len(record),1)}%)')"
   ]
  },
  {
   "cell_type": "markdown",
   "id": "0044029b",
   "metadata": {
    "papermill": {
     "duration": 0.038433,
     "end_time": "2022-03-09T17:36:50.441111",
     "exception": false,
     "start_time": "2022-03-09T17:36:50.402678",
     "status": "completed"
    },
    "tags": []
   },
   "source": [
    "**Cardinality of features**"
   ]
  },
  {
   "cell_type": "markdown",
   "id": "37891206",
   "metadata": {
    "papermill": {
     "duration": 0.038411,
     "end_time": "2022-03-09T17:36:50.518256",
     "exception": false,
     "start_time": "2022-03-09T17:36:50.479845",
     "status": "completed"
    },
    "tags": []
   },
   "source": [
    "There is 1 constant feature, 6 binary features, 3 continuous features and 7 non-binary categorical features."
   ]
  },
  {
   "cell_type": "code",
   "execution_count": 7,
   "id": "6764bdff",
   "metadata": {
    "execution": {
     "iopub.execute_input": "2022-03-09T17:36:50.598592Z",
     "iopub.status.busy": "2022-03-09T17:36:50.597954Z",
     "iopub.status.idle": "2022-03-09T17:36:50.928450Z",
     "shell.execute_reply": "2022-03-09T17:36:50.929004Z",
     "shell.execute_reply.started": "2022-03-09T16:41:38.561304Z"
    },
    "papermill": {
     "duration": 0.372356,
     "end_time": "2022-03-09T17:36:50.929187",
     "exception": false,
     "start_time": "2022-03-09T17:36:50.556831",
     "status": "completed"
    },
    "tags": []
   },
   "outputs": [
    {
     "data": {
      "text/plain": [
       "ID                     438510\n",
       "CODE_GENDER                 2\n",
       "FLAG_OWN_CAR                2\n",
       "FLAG_OWN_REALTY             2\n",
       "CNT_CHILDREN               12\n",
       "AMT_INCOME_TOTAL          866\n",
       "NAME_INCOME_TYPE            5\n",
       "NAME_EDUCATION_TYPE         5\n",
       "NAME_FAMILY_STATUS          5\n",
       "NAME_HOUSING_TYPE           6\n",
       "DAYS_BIRTH              16379\n",
       "DAYS_EMPLOYED            9406\n",
       "FLAG_MOBIL                  1\n",
       "FLAG_WORK_PHONE             2\n",
       "FLAG_PHONE                  2\n",
       "FLAG_EMAIL                  2\n",
       "OCCUPATION_TYPE            18\n",
       "CNT_FAM_MEMBERS            13\n",
       "dtype: int64"
      ]
     },
     "execution_count": 7,
     "metadata": {},
     "output_type": "execute_result"
    }
   ],
   "source": [
    "applications.nunique()"
   ]
  },
  {
   "cell_type": "markdown",
   "id": "183a1a66",
   "metadata": {
    "papermill": {
     "duration": 0.038782,
     "end_time": "2022-03-09T17:36:51.007413",
     "exception": false,
     "start_time": "2022-03-09T17:36:50.968631",
     "status": "completed"
    },
    "tags": []
   },
   "source": [
    "# Data Cleaning"
   ]
  },
  {
   "cell_type": "markdown",
   "id": "28f2ba01",
   "metadata": {
    "papermill": {
     "duration": 0.038487,
     "end_time": "2022-03-09T17:36:51.087342",
     "exception": false,
     "start_time": "2022-03-09T17:36:51.048855",
     "status": "completed"
    },
    "tags": []
   },
   "source": [
    "**Drop duplicates**"
   ]
  },
  {
   "cell_type": "code",
   "execution_count": 8,
   "id": "dcb9bf8c",
   "metadata": {
    "execution": {
     "iopub.execute_input": "2022-03-09T17:36:51.168158Z",
     "iopub.status.busy": "2022-03-09T17:36:51.167537Z",
     "iopub.status.idle": "2022-03-09T17:36:51.561224Z",
     "shell.execute_reply": "2022-03-09T17:36:51.561765Z",
     "shell.execute_reply.started": "2022-03-09T16:41:38.888881Z"
    },
    "papermill": {
     "duration": 0.435714,
     "end_time": "2022-03-09T17:36:51.561954",
     "exception": false,
     "start_time": "2022-03-09T17:36:51.126240",
     "status": "completed"
    },
    "tags": []
   },
   "outputs": [],
   "source": [
    "# Drop duplicates\n",
    "applications=applications.drop_duplicates(subset=applications.columns[1:], keep='first')"
   ]
  },
  {
   "cell_type": "markdown",
   "id": "a4ffc986",
   "metadata": {
    "papermill": {
     "duration": 0.03928,
     "end_time": "2022-03-09T17:36:51.640759",
     "exception": false,
     "start_time": "2022-03-09T17:36:51.601479",
     "status": "completed"
    },
    "tags": []
   },
   "source": [
    "**Fill missing values**"
   ]
  },
  {
   "cell_type": "code",
   "execution_count": 9,
   "id": "1c5a2ea6",
   "metadata": {
    "execution": {
     "iopub.execute_input": "2022-03-09T17:36:51.723449Z",
     "iopub.status.busy": "2022-03-09T17:36:51.722797Z",
     "iopub.status.idle": "2022-03-09T17:36:51.735503Z",
     "shell.execute_reply": "2022-03-09T17:36:51.736035Z",
     "shell.execute_reply.started": "2022-03-09T16:41:39.301016Z"
    },
    "papermill": {
     "duration": 0.056353,
     "end_time": "2022-03-09T17:36:51.736249",
     "exception": false,
     "start_time": "2022-03-09T17:36:51.679896",
     "status": "completed"
    },
    "tags": []
   },
   "outputs": [],
   "source": [
    "# Fill missing values\n",
    "applications['OCCUPATION_TYPE'].fillna(value='Other', inplace=True)"
   ]
  },
  {
   "cell_type": "markdown",
   "id": "ccf5725f",
   "metadata": {
    "papermill": {
     "duration": 0.040218,
     "end_time": "2022-03-09T17:36:51.815990",
     "exception": false,
     "start_time": "2022-03-09T17:36:51.775772",
     "status": "completed"
    },
    "tags": []
   },
   "source": [
    "**Drop constant feature**"
   ]
  },
  {
   "cell_type": "markdown",
   "id": "f116c8a4",
   "metadata": {
    "papermill": {
     "duration": 0.039453,
     "end_time": "2022-03-09T17:36:51.895554",
     "exception": false,
     "start_time": "2022-03-09T17:36:51.856101",
     "status": "completed"
    },
    "tags": []
   },
   "source": [
    "This won't be useful to our models."
   ]
  },
  {
   "cell_type": "code",
   "execution_count": 10,
   "id": "7c73577d",
   "metadata": {
    "execution": {
     "iopub.execute_input": "2022-03-09T17:36:51.977358Z",
     "iopub.status.busy": "2022-03-09T17:36:51.976652Z",
     "iopub.status.idle": "2022-03-09T17:36:51.988532Z",
     "shell.execute_reply": "2022-03-09T17:36:51.989087Z",
     "shell.execute_reply.started": "2022-03-09T16:41:39.316852Z"
    },
    "papermill": {
     "duration": 0.054376,
     "end_time": "2022-03-09T17:36:51.989269",
     "exception": false,
     "start_time": "2022-03-09T17:36:51.934893",
     "status": "completed"
    },
    "tags": []
   },
   "outputs": [],
   "source": [
    "# Drop constant feature\n",
    "applications.drop('FLAG_MOBIL', axis=1, inplace=True)"
   ]
  },
  {
   "cell_type": "markdown",
   "id": "55768fd9",
   "metadata": {
    "papermill": {
     "duration": 0.053012,
     "end_time": "2022-03-09T17:36:52.091582",
     "exception": false,
     "start_time": "2022-03-09T17:36:52.038570",
     "status": "completed"
    },
    "tags": []
   },
   "source": [
    "**Create target variable**"
   ]
  },
  {
   "cell_type": "markdown",
   "id": "f6e1dd44",
   "metadata": {
    "papermill": {
     "duration": 0.039799,
     "end_time": "2022-03-09T17:36:52.177109",
     "exception": false,
     "start_time": "2022-03-09T17:36:52.137310",
     "status": "completed"
    },
    "tags": []
   },
   "source": [
    "Because the credit records are incomplete (the ID ranges in both dfs don't match) we have to create our own target. We do this by identifying 'low risk' and 'high risk' credit users. We say a user is 'high risk' if during any month they are late on payments by 30 days or more, and 'low risk' otherwise. This is the target we will try to predict later."
   ]
  },
  {
   "cell_type": "code",
   "execution_count": 11,
   "id": "26885828",
   "metadata": {
    "execution": {
     "iopub.execute_input": "2022-03-09T17:36:52.265153Z",
     "iopub.status.busy": "2022-03-09T17:36:52.264014Z",
     "iopub.status.idle": "2022-03-09T17:36:52.563009Z",
     "shell.execute_reply": "2022-03-09T17:36:52.562368Z",
     "shell.execute_reply.started": "2022-03-09T16:41:39.336917Z"
    },
    "papermill": {
     "duration": 0.346999,
     "end_time": "2022-03-09T17:36:52.563152",
     "exception": false,
     "start_time": "2022-03-09T17:36:52.216153",
     "status": "completed"
    },
    "tags": []
   },
   "outputs": [
    {
     "name": "stderr",
     "output_type": "stream",
     "text": [
      "C:\\TempFolder\\ipykernel_11500\\182635032.py:9: FutureWarning: The provided callable <built-in function max> is currently using SeriesGroupBy.max. In a future version of pandas, the provided callable will be used directly. To keep current behavior pass 'max' instead.\n",
      "  target_df=pd.DataFrame(record.groupby(['ID'])['target'].agg(max)).reset_index()\n"
     ]
    }
   ],
   "source": [
    "# Construct target\n",
    "record['target']=record['STATUS']\n",
    "record['target'].replace('X', 0, inplace=True)\n",
    "record['target'].replace('C', 0, inplace=True)\n",
    "record['target']=record['target'].astype(int)\n",
    "record.loc[record['target']>=1,'target']=1\n",
    "\n",
    "# target=1 (high risk) iff there is at least one month where user is late on payments by 30 days or more\n",
    "target_df=pd.DataFrame(record.groupby(['ID'])['target'].agg(max)).reset_index()\n",
    "\n",
    "# Merge dataframes\n",
    "new_df=pd.merge(applications, target_df, how='inner', on=['ID'])"
   ]
  },
  {
   "cell_type": "markdown",
   "id": "0e2af6ae",
   "metadata": {
    "papermill": {
     "duration": 0.039713,
     "end_time": "2022-03-09T17:36:52.642126",
     "exception": false,
     "start_time": "2022-03-09T17:36:52.602413",
     "status": "completed"
    },
    "tags": []
   },
   "source": [
    "**Account length**"
   ]
  },
  {
   "cell_type": "markdown",
   "id": "be296e21",
   "metadata": {
    "papermill": {
     "duration": 0.039543,
     "end_time": "2022-03-09T17:36:52.720732",
     "exception": false,
     "start_time": "2022-03-09T17:36:52.681189",
     "status": "completed"
    },
    "tags": []
   },
   "source": [
    "It makes sense that the number of months the account has been open for correlates with the riskiness of the customer (since there are more opportunity to miss payments)."
   ]
  },
  {
   "cell_type": "code",
   "execution_count": 12,
   "id": "4841b506",
   "metadata": {
    "execution": {
     "iopub.execute_input": "2022-03-09T17:36:52.805510Z",
     "iopub.status.busy": "2022-03-09T17:36:52.804772Z",
     "iopub.status.idle": "2022-03-09T17:36:52.839444Z",
     "shell.execute_reply": "2022-03-09T17:36:52.838898Z",
     "shell.execute_reply.started": "2022-03-09T16:41:39.650142Z"
    },
    "papermill": {
     "duration": 0.079957,
     "end_time": "2022-03-09T17:36:52.839591",
     "exception": false,
     "start_time": "2022-03-09T17:36:52.759634",
     "status": "completed"
    },
    "tags": []
   },
   "outputs": [
    {
     "name": "stderr",
     "output_type": "stream",
     "text": [
      "C:\\TempFolder\\ipykernel_11500\\1593942993.py:2: FutureWarning: The provided callable <built-in function min> is currently using SeriesGroupBy.min. In a future version of pandas, the provided callable will be used directly. To keep current behavior pass 'min' instead.\n",
      "  start_df=pd.DataFrame(record.groupby(['ID'])['MONTHS_BALANCE'].agg(min)).reset_index()\n"
     ]
    }
   ],
   "source": [
    "# Extract how many months account has been open for\n",
    "start_df=pd.DataFrame(record.groupby(['ID'])['MONTHS_BALANCE'].agg(min)).reset_index()\n",
    "\n",
    "# Rename column\n",
    "start_df.rename(columns={'MONTHS_BALANCE':'ACCOUNT_LENGTH'}, inplace=True)\n",
    "\n",
    "# Make entries positive\n",
    "start_df['ACCOUNT_LENGTH']=-start_df['ACCOUNT_LENGTH']\n",
    "\n",
    "# Merge dataframes on ID\n",
    "new_df=pd.merge(new_df, start_df, how='inner', on=['ID'])"
   ]
  },
  {
   "cell_type": "markdown",
   "id": "e0535ec3",
   "metadata": {
    "papermill": {
     "duration": 0.038796,
     "end_time": "2022-03-09T17:36:52.917672",
     "exception": false,
     "start_time": "2022-03-09T17:36:52.878876",
     "status": "completed"
    },
    "tags": []
   },
   "source": [
    "**Continuous features**"
   ]
  },
  {
   "cell_type": "code",
   "execution_count": 13,
   "id": "25898a9c",
   "metadata": {
    "execution": {
     "iopub.execute_input": "2022-03-09T17:36:53.000210Z",
     "iopub.status.busy": "2022-03-09T17:36:52.999539Z",
     "iopub.status.idle": "2022-03-09T17:36:53.015460Z",
     "shell.execute_reply": "2022-03-09T17:36:53.016036Z",
     "shell.execute_reply.started": "2022-03-09T16:41:39.690667Z"
    },
    "papermill": {
     "duration": 0.058854,
     "end_time": "2022-03-09T17:36:53.016223",
     "exception": false,
     "start_time": "2022-03-09T17:36:52.957369",
     "status": "completed"
    },
    "tags": []
   },
   "outputs": [],
   "source": [
    "# Create age feature\n",
    "new_df['AGE_YEARS']=-new_df['DAYS_BIRTH']/365.2425\n",
    "new_df.drop('DAYS_BIRTH', axis=1, inplace=True)\n",
    "\n",
    "# Create unemployed indicator\n",
    "new_df['UNEMPLOYED']=0\n",
    "new_df.loc[-new_df['DAYS_EMPLOYED']<0,'UNEMPLOYED']=1\n",
    "\n",
    "# Create years employed feature\n",
    "new_df['YEARS_EMPLOYED']=-new_df['DAYS_EMPLOYED']/365.2425\n",
    "new_df.loc[new_df['YEARS_EMPLOYED']<0,'YEARS_EMPLOYED']=0\n",
    "new_df.drop('DAYS_EMPLOYED', axis=1, inplace=True)"
   ]
  },
  {
   "cell_type": "markdown",
   "id": "fe74e19a",
   "metadata": {
    "papermill": {
     "duration": 0.039646,
     "end_time": "2022-03-09T17:36:53.094908",
     "exception": false,
     "start_time": "2022-03-09T17:36:53.055262",
     "status": "completed"
    },
    "tags": []
   },
   "source": [
    "**Encoding categorical features**"
   ]
  },
  {
   "cell_type": "code",
   "execution_count": 14,
   "id": "1342406d",
   "metadata": {
    "execution": {
     "iopub.execute_input": "2022-03-09T17:36:53.176730Z",
     "iopub.status.busy": "2022-03-09T17:36:53.176061Z",
     "iopub.status.idle": "2022-03-09T17:36:53.203012Z",
     "shell.execute_reply": "2022-03-09T17:36:53.203554Z",
     "shell.execute_reply.started": "2022-03-09T16:41:39.709868Z"
    },
    "papermill": {
     "duration": 0.06954,
     "end_time": "2022-03-09T17:36:53.203746",
     "exception": false,
     "start_time": "2022-03-09T17:36:53.134206",
     "status": "completed"
    },
    "tags": []
   },
   "outputs": [],
   "source": [
    "# Encode binary features\n",
    "new_df[\"CODE_GENDER\"] =  new_df[\"CODE_GENDER\"].replace(['F','M'],[0,1])\n",
    "new_df[\"FLAG_OWN_CAR\"] = new_df[\"FLAG_OWN_CAR\"].replace([\"Y\",\"N\"],[1,0])\n",
    "new_df[\"FLAG_OWN_REALTY\"] = new_df[\"FLAG_OWN_REALTY\"].replace([\"Y\",\"N\"],[1,0])"
   ]
  },
  {
   "cell_type": "markdown",
   "id": "c4165f6e",
   "metadata": {
    "papermill": {
     "duration": 0.039632,
     "end_time": "2022-03-09T17:36:53.283019",
     "exception": false,
     "start_time": "2022-03-09T17:36:53.243387",
     "status": "completed"
    },
    "tags": []
   },
   "source": [
    "**Rename columns**"
   ]
  },
  {
   "cell_type": "code",
   "execution_count": 15,
   "id": "6c44c366",
   "metadata": {
    "execution": {
     "iopub.execute_input": "2022-03-09T17:36:53.364572Z",
     "iopub.status.busy": "2022-03-09T17:36:53.363937Z",
     "iopub.status.idle": "2022-03-09T17:36:53.371581Z",
     "shell.execute_reply": "2022-03-09T17:36:53.372211Z",
     "shell.execute_reply.started": "2022-03-09T16:41:39.739950Z"
    },
    "papermill": {
     "duration": 0.050257,
     "end_time": "2022-03-09T17:36:53.372436",
     "exception": false,
     "start_time": "2022-03-09T17:36:53.322179",
     "status": "completed"
    },
    "tags": []
   },
   "outputs": [],
   "source": [
    "new_df = new_df.rename(columns={'CODE_GENDER': 'Gender', 'FLAG_OWN_CAR': 'Own_car', \n",
    "                               'FLAG_OWN_REALTY':'Own_property','CNT_CHILDREN':'Num_children',\n",
    "                               'AMT_INCOME_TOTAL':'Total_income','NAME_INCOME_TYPE':'Income_type',\n",
    "                               'NAME_EDUCATION_TYPE':'Education_type','NAME_FAMILY_STATUS':'Family_status',\n",
    "                               'NAME_HOUSING_TYPE':'Housing_type','FLAG_WORK_PHONE':'Work_phone',\n",
    "                               'FLAG_PHONE':'Phone','FLAG_EMAIL':'Email','OCCUPATION_TYPE':'Occupation_type',\n",
    "                               'CNT_FAM_MEMBERS':'Num_family','target':'Target','ACCOUNT_LENGTH':'Account_length',\n",
    "                                'AGE_YEARS':'Age','UNEMPLOYED':'Unemployed','YEARS_EMPLOYED':'Years_employed'})"
   ]
  },
  {
   "cell_type": "markdown",
   "id": "2904795f",
   "metadata": {
    "papermill": {
     "duration": 0.038902,
     "end_time": "2022-03-09T17:36:53.450463",
     "exception": false,
     "start_time": "2022-03-09T17:36:53.411561",
     "status": "completed"
    },
    "tags": []
   },
   "source": [
    "**Data type**"
   ]
  },
  {
   "cell_type": "code",
   "execution_count": 16,
   "id": "60b3527f",
   "metadata": {
    "execution": {
     "iopub.execute_input": "2022-03-09T17:36:53.532288Z",
     "iopub.status.busy": "2022-03-09T17:36:53.531666Z",
     "iopub.status.idle": "2022-03-09T17:36:53.536143Z",
     "shell.execute_reply": "2022-03-09T17:36:53.536681Z",
     "shell.execute_reply.started": "2022-03-09T16:41:39.750014Z"
    },
    "papermill": {
     "duration": 0.046745,
     "end_time": "2022-03-09T17:36:53.536868",
     "exception": false,
     "start_time": "2022-03-09T17:36:53.490123",
     "status": "completed"
    },
    "tags": []
   },
   "outputs": [],
   "source": [
    "new_df['Num_family']=new_df['Num_family'].astype(int)"
   ]
  },
  {
   "cell_type": "markdown",
   "id": "2e987283",
   "metadata": {
    "papermill": {
     "duration": 0.040088,
     "end_time": "2022-03-09T17:36:53.615768",
     "exception": false,
     "start_time": "2022-03-09T17:36:53.575680",
     "status": "completed"
    },
    "tags": []
   },
   "source": [
    "**Re-order columns**"
   ]
  },
  {
   "cell_type": "code",
   "execution_count": 17,
   "id": "ba54cfec",
   "metadata": {
    "execution": {
     "iopub.execute_input": "2022-03-09T17:36:53.697978Z",
     "iopub.status.busy": "2022-03-09T17:36:53.697270Z",
     "iopub.status.idle": "2022-03-09T17:36:53.702479Z",
     "shell.execute_reply": "2022-03-09T17:36:53.701982Z",
     "shell.execute_reply.started": "2022-03-09T16:41:39.759454Z"
    },
    "papermill": {
     "duration": 0.047028,
     "end_time": "2022-03-09T17:36:53.702618",
     "exception": false,
     "start_time": "2022-03-09T17:36:53.655590",
     "status": "completed"
    },
    "tags": []
   },
   "outputs": [
    {
     "data": {
      "text/plain": [
       "Index(['ID', 'Gender', 'Own_car', 'Own_property', 'Num_children',\n",
       "       'Total_income', 'Income_type', 'Education_type', 'Family_status',\n",
       "       'Housing_type', 'Work_phone', 'Phone', 'Email', 'Occupation_type',\n",
       "       'Num_family', 'Target', 'Account_length', 'Age', 'Unemployed',\n",
       "       'Years_employed'],\n",
       "      dtype='object')"
      ]
     },
     "execution_count": 17,
     "metadata": {},
     "output_type": "execute_result"
    }
   ],
   "source": [
    "new_df.columns"
   ]
  },
  {
   "cell_type": "code",
   "execution_count": 18,
   "id": "f2673021",
   "metadata": {
    "execution": {
     "iopub.execute_input": "2022-03-09T17:36:53.786467Z",
     "iopub.status.busy": "2022-03-09T17:36:53.785808Z",
     "iopub.status.idle": "2022-03-09T17:36:53.792504Z",
     "shell.execute_reply": "2022-03-09T17:36:53.793030Z",
     "shell.execute_reply.started": "2022-03-09T16:41:39.770687Z"
    },
    "papermill": {
     "duration": 0.049622,
     "end_time": "2022-03-09T17:36:53.793217",
     "exception": false,
     "start_time": "2022-03-09T17:36:53.743595",
     "status": "completed"
    },
    "tags": []
   },
   "outputs": [],
   "source": [
    "new_df=new_df[['ID', 'Gender', 'Own_car', 'Own_property', 'Work_phone',\n",
    "               'Phone', 'Email', 'Unemployed', 'Num_children', 'Num_family', \n",
    "               'Account_length', 'Total_income', 'Age', 'Years_employed',  \n",
    "               'Income_type', 'Education_type', 'Family_status',\n",
    "               'Housing_type', 'Occupation_type','Target']]"
   ]
  },
  {
   "cell_type": "markdown",
   "id": "51733416",
   "metadata": {
    "papermill": {
     "duration": 0.039701,
     "end_time": "2022-03-09T17:36:53.872848",
     "exception": false,
     "start_time": "2022-03-09T17:36:53.833147",
     "status": "completed"
    },
    "tags": []
   },
   "source": [
    "# Output"
   ]
  },
  {
   "cell_type": "code",
   "execution_count": 19,
   "id": "5907a18e",
   "metadata": {
    "execution": {
     "iopub.execute_input": "2022-03-09T17:36:53.957640Z",
     "iopub.status.busy": "2022-03-09T17:36:53.956607Z",
     "iopub.status.idle": "2022-03-09T17:36:53.979064Z",
     "shell.execute_reply": "2022-03-09T17:36:53.978342Z",
     "shell.execute_reply.started": "2022-03-09T16:41:39.785323Z"
    },
    "papermill": {
     "duration": 0.066774,
     "end_time": "2022-03-09T17:36:53.979255",
     "exception": false,
     "start_time": "2022-03-09T17:36:53.912481",
     "status": "completed"
    },
    "tags": []
   },
   "outputs": [
    {
     "name": "stdout",
     "output_type": "stream",
     "text": [
      "New df shape: (9709, 20)\n"
     ]
    },
    {
     "data": {
      "text/html": [
       "<div>\n",
       "<style scoped>\n",
       "    .dataframe tbody tr th:only-of-type {\n",
       "        vertical-align: middle;\n",
       "    }\n",
       "\n",
       "    .dataframe tbody tr th {\n",
       "        vertical-align: top;\n",
       "    }\n",
       "\n",
       "    .dataframe thead th {\n",
       "        text-align: right;\n",
       "    }\n",
       "</style>\n",
       "<table border=\"1\" class=\"dataframe\">\n",
       "  <thead>\n",
       "    <tr style=\"text-align: right;\">\n",
       "      <th></th>\n",
       "      <th>ID</th>\n",
       "      <th>Gender</th>\n",
       "      <th>Own_car</th>\n",
       "      <th>Own_property</th>\n",
       "      <th>Work_phone</th>\n",
       "      <th>Phone</th>\n",
       "      <th>Email</th>\n",
       "      <th>Unemployed</th>\n",
       "      <th>Num_children</th>\n",
       "      <th>Num_family</th>\n",
       "      <th>Account_length</th>\n",
       "      <th>Total_income</th>\n",
       "      <th>Age</th>\n",
       "      <th>Years_employed</th>\n",
       "      <th>Income_type</th>\n",
       "      <th>Education_type</th>\n",
       "      <th>Family_status</th>\n",
       "      <th>Housing_type</th>\n",
       "      <th>Occupation_type</th>\n",
       "      <th>Target</th>\n",
       "    </tr>\n",
       "  </thead>\n",
       "  <tbody>\n",
       "    <tr>\n",
       "      <th>0</th>\n",
       "      <td>5008804</td>\n",
       "      <td>1</td>\n",
       "      <td>1</td>\n",
       "      <td>1</td>\n",
       "      <td>1</td>\n",
       "      <td>0</td>\n",
       "      <td>0</td>\n",
       "      <td>0</td>\n",
       "      <td>0</td>\n",
       "      <td>2</td>\n",
       "      <td>15</td>\n",
       "      <td>427500.0</td>\n",
       "      <td>32.868574</td>\n",
       "      <td>12.435574</td>\n",
       "      <td>Working</td>\n",
       "      <td>Higher education</td>\n",
       "      <td>Civil marriage</td>\n",
       "      <td>Rented apartment</td>\n",
       "      <td>Other</td>\n",
       "      <td>1</td>\n",
       "    </tr>\n",
       "    <tr>\n",
       "      <th>1</th>\n",
       "      <td>5008806</td>\n",
       "      <td>1</td>\n",
       "      <td>1</td>\n",
       "      <td>1</td>\n",
       "      <td>0</td>\n",
       "      <td>0</td>\n",
       "      <td>0</td>\n",
       "      <td>0</td>\n",
       "      <td>0</td>\n",
       "      <td>2</td>\n",
       "      <td>29</td>\n",
       "      <td>112500.0</td>\n",
       "      <td>58.793815</td>\n",
       "      <td>3.104787</td>\n",
       "      <td>Working</td>\n",
       "      <td>Secondary / secondary special</td>\n",
       "      <td>Married</td>\n",
       "      <td>House / apartment</td>\n",
       "      <td>Security staff</td>\n",
       "      <td>0</td>\n",
       "    </tr>\n",
       "    <tr>\n",
       "      <th>2</th>\n",
       "      <td>5008808</td>\n",
       "      <td>0</td>\n",
       "      <td>0</td>\n",
       "      <td>1</td>\n",
       "      <td>0</td>\n",
       "      <td>1</td>\n",
       "      <td>1</td>\n",
       "      <td>0</td>\n",
       "      <td>0</td>\n",
       "      <td>1</td>\n",
       "      <td>4</td>\n",
       "      <td>270000.0</td>\n",
       "      <td>52.321403</td>\n",
       "      <td>8.353354</td>\n",
       "      <td>Commercial associate</td>\n",
       "      <td>Secondary / secondary special</td>\n",
       "      <td>Single / not married</td>\n",
       "      <td>House / apartment</td>\n",
       "      <td>Sales staff</td>\n",
       "      <td>0</td>\n",
       "    </tr>\n",
       "    <tr>\n",
       "      <th>3</th>\n",
       "      <td>5008812</td>\n",
       "      <td>0</td>\n",
       "      <td>0</td>\n",
       "      <td>1</td>\n",
       "      <td>0</td>\n",
       "      <td>0</td>\n",
       "      <td>0</td>\n",
       "      <td>1</td>\n",
       "      <td>0</td>\n",
       "      <td>1</td>\n",
       "      <td>20</td>\n",
       "      <td>283500.0</td>\n",
       "      <td>61.504343</td>\n",
       "      <td>0.000000</td>\n",
       "      <td>Pensioner</td>\n",
       "      <td>Higher education</td>\n",
       "      <td>Separated</td>\n",
       "      <td>House / apartment</td>\n",
       "      <td>Other</td>\n",
       "      <td>0</td>\n",
       "    </tr>\n",
       "    <tr>\n",
       "      <th>4</th>\n",
       "      <td>5008815</td>\n",
       "      <td>1</td>\n",
       "      <td>1</td>\n",
       "      <td>1</td>\n",
       "      <td>1</td>\n",
       "      <td>1</td>\n",
       "      <td>1</td>\n",
       "      <td>0</td>\n",
       "      <td>0</td>\n",
       "      <td>2</td>\n",
       "      <td>5</td>\n",
       "      <td>270000.0</td>\n",
       "      <td>46.193967</td>\n",
       "      <td>2.105450</td>\n",
       "      <td>Working</td>\n",
       "      <td>Higher education</td>\n",
       "      <td>Married</td>\n",
       "      <td>House / apartment</td>\n",
       "      <td>Accountants</td>\n",
       "      <td>0</td>\n",
       "    </tr>\n",
       "  </tbody>\n",
       "</table>\n",
       "</div>"
      ],
      "text/plain": [
       "        ID  Gender  Own_car  Own_property  Work_phone  Phone  Email  \\\n",
       "0  5008804       1        1             1           1      0      0   \n",
       "1  5008806       1        1             1           0      0      0   \n",
       "2  5008808       0        0             1           0      1      1   \n",
       "3  5008812       0        0             1           0      0      0   \n",
       "4  5008815       1        1             1           1      1      1   \n",
       "\n",
       "   Unemployed  Num_children  Num_family  Account_length  Total_income  \\\n",
       "0           0             0           2              15      427500.0   \n",
       "1           0             0           2              29      112500.0   \n",
       "2           0             0           1               4      270000.0   \n",
       "3           1             0           1              20      283500.0   \n",
       "4           0             0           2               5      270000.0   \n",
       "\n",
       "         Age  Years_employed           Income_type  \\\n",
       "0  32.868574       12.435574               Working   \n",
       "1  58.793815        3.104787               Working   \n",
       "2  52.321403        8.353354  Commercial associate   \n",
       "3  61.504343        0.000000             Pensioner   \n",
       "4  46.193967        2.105450               Working   \n",
       "\n",
       "                  Education_type         Family_status       Housing_type  \\\n",
       "0               Higher education        Civil marriage   Rented apartment   \n",
       "1  Secondary / secondary special               Married  House / apartment   \n",
       "2  Secondary / secondary special  Single / not married  House / apartment   \n",
       "3               Higher education             Separated  House / apartment   \n",
       "4               Higher education               Married  House / apartment   \n",
       "\n",
       "  Occupation_type  Target  \n",
       "0           Other       1  \n",
       "1  Security staff       0  \n",
       "2     Sales staff       0  \n",
       "3           Other       0  \n",
       "4     Accountants       0  "
      ]
     },
     "execution_count": 19,
     "metadata": {},
     "output_type": "execute_result"
    }
   ],
   "source": [
    "# Shape and preview\n",
    "print('New df shape:', new_df.shape)\n",
    "new_df.head()"
   ]
  },
  {
   "cell_type": "code",
   "execution_count": 20,
   "id": "2f707df9",
   "metadata": {
    "execution": {
     "iopub.execute_input": "2022-03-09T17:36:54.068883Z",
     "iopub.status.busy": "2022-03-09T17:36:54.068190Z",
     "iopub.status.idle": "2022-03-09T17:36:54.070779Z",
     "shell.execute_reply": "2022-03-09T17:36:54.071271Z",
     "shell.execute_reply.started": "2022-03-09T16:41:39.809517Z"
    },
    "papermill": {
     "duration": 0.050992,
     "end_time": "2022-03-09T17:36:54.071437",
     "exception": false,
     "start_time": "2022-03-09T17:36:54.020445",
     "status": "completed"
    },
    "tags": []
   },
   "outputs": [
    {
     "data": {
      "text/plain": [
       "ID                   int64\n",
       "Gender               int64\n",
       "Own_car              int64\n",
       "Own_property         int64\n",
       "Work_phone           int64\n",
       "Phone                int64\n",
       "Email                int64\n",
       "Unemployed           int64\n",
       "Num_children         int64\n",
       "Num_family           int32\n",
       "Account_length       int64\n",
       "Total_income       float64\n",
       "Age                float64\n",
       "Years_employed     float64\n",
       "Income_type         object\n",
       "Education_type      object\n",
       "Family_status       object\n",
       "Housing_type        object\n",
       "Occupation_type     object\n",
       "Target               int32\n",
       "dtype: object"
      ]
     },
     "execution_count": 20,
     "metadata": {},
     "output_type": "execute_result"
    }
   ],
   "source": [
    "# Data types\n",
    "new_df.dtypes"
   ]
  },
  {
   "cell_type": "code",
   "execution_count": null,
   "id": "236765a4",
   "metadata": {},
   "outputs": [],
   "source": []
  },
  {
   "cell_type": "markdown",
   "id": "301ab3c8",
   "metadata": {},
   "source": [
    "# LabelEncoding "
   ]
  },
  {
   "cell_type": "code",
   "execution_count": 21,
   "id": "eb56c515",
   "metadata": {},
   "outputs": [
    {
     "name": "stdout",
     "output_type": "stream",
     "text": [
      "{'Academic degree': 0, 'Higher education': 1, 'Incomplete higher': 2, 'Lower secondary': 3, 'Secondary / secondary special': 4}\n"
     ]
    }
   ],
   "source": [
    "# Education_type 변수 label encoding\n",
    "label_encoder = LabelEncoder()\n",
    "new_df['Education_type'] = label_encoder.fit_transform(new_df['Education_type'])\n",
    "\n",
    "# label과 실제 값의 매핑 확인\n",
    "label_mapping = dict(zip(label_encoder.classes_, label_encoder.transform(label_encoder.classes_)))\n",
    "print(label_mapping)"
   ]
  },
  {
   "cell_type": "code",
   "execution_count": 22,
   "id": "4b80e8f9",
   "metadata": {},
   "outputs": [
    {
     "name": "stdout",
     "output_type": "stream",
     "text": [
      "{'Commercial associate': 0, 'Pensioner': 1, 'State servant': 2, 'Student': 3, 'Working': 4}\n"
     ]
    }
   ],
   "source": [
    "# Education_type 변수 label encoding\n",
    "label_encoder = LabelEncoder()\n",
    "new_df['Income_type'] = label_encoder.fit_transform(new_df['Income_type'])\n",
    "\n",
    "# label과 실제 값의 매핑 확인\n",
    "label_mapping = dict(zip(label_encoder.classes_, label_encoder.transform(label_encoder.classes_)))\n",
    "print(label_mapping)"
   ]
  },
  {
   "cell_type": "code",
   "execution_count": 23,
   "id": "14b42a13",
   "metadata": {},
   "outputs": [
    {
     "name": "stdout",
     "output_type": "stream",
     "text": [
      "{'Civil marriage': 0, 'Married': 1, 'Separated': 2, 'Single / not married': 3, 'Widow': 4}\n"
     ]
    }
   ],
   "source": [
    "# Education_type 변수 label encoding\n",
    "label_encoder = LabelEncoder()\n",
    "new_df['Family_status'] = label_encoder.fit_transform(new_df['Family_status'])\n",
    "\n",
    "# label과 실제 값의 매핑 확인\n",
    "label_mapping = dict(zip(label_encoder.classes_, label_encoder.transform(label_encoder.classes_)))\n",
    "print(label_mapping)"
   ]
  },
  {
   "cell_type": "code",
   "execution_count": 24,
   "id": "acc22414",
   "metadata": {},
   "outputs": [
    {
     "name": "stdout",
     "output_type": "stream",
     "text": [
      "{'Co-op apartment': 0, 'House / apartment': 1, 'Municipal apartment': 2, 'Office apartment': 3, 'Rented apartment': 4, 'With parents': 5}\n"
     ]
    }
   ],
   "source": [
    "# Education_type 변수 label encoding\n",
    "label_encoder = LabelEncoder()\n",
    "new_df['Housing_type'] = label_encoder.fit_transform(new_df['Housing_type'])\n",
    "\n",
    "# label과 실제 값의 매핑 확인\n",
    "label_mapping = dict(zip(label_encoder.classes_, label_encoder.transform(label_encoder.classes_)))\n",
    "print(label_mapping)"
   ]
  },
  {
   "cell_type": "code",
   "execution_count": 25,
   "id": "4399755e",
   "metadata": {},
   "outputs": [
    {
     "name": "stdout",
     "output_type": "stream",
     "text": [
      "{'Accountants': 0, 'Cleaning staff': 1, 'Cooking staff': 2, 'Core staff': 3, 'Drivers': 4, 'HR staff': 5, 'High skill tech staff': 6, 'IT staff': 7, 'Laborers': 8, 'Low-skill Laborers': 9, 'Managers': 10, 'Medicine staff': 11, 'Other': 12, 'Private service staff': 13, 'Realty agents': 14, 'Sales staff': 15, 'Secretaries': 16, 'Security staff': 17, 'Waiters/barmen staff': 18}\n"
     ]
    }
   ],
   "source": [
    "# Education_type 변수 label encoding\n",
    "label_encoder = LabelEncoder()\n",
    "new_df['Occupation_type'] = label_encoder.fit_transform(new_df['Occupation_type'])\n",
    "\n",
    "# label과 실제 값의 매핑 확인\n",
    "label_mapping = dict(zip(label_encoder.classes_, label_encoder.transform(label_encoder.classes_)))\n",
    "print(label_mapping)"
   ]
  },
  {
   "cell_type": "code",
   "execution_count": 26,
   "id": "c4338823",
   "metadata": {},
   "outputs": [
    {
     "data": {
      "text/html": [
       "<div>\n",
       "<style scoped>\n",
       "    .dataframe tbody tr th:only-of-type {\n",
       "        vertical-align: middle;\n",
       "    }\n",
       "\n",
       "    .dataframe tbody tr th {\n",
       "        vertical-align: top;\n",
       "    }\n",
       "\n",
       "    .dataframe thead th {\n",
       "        text-align: right;\n",
       "    }\n",
       "</style>\n",
       "<table border=\"1\" class=\"dataframe\">\n",
       "  <thead>\n",
       "    <tr style=\"text-align: right;\">\n",
       "      <th></th>\n",
       "      <th>ID</th>\n",
       "      <th>Gender</th>\n",
       "      <th>Own_car</th>\n",
       "      <th>Own_property</th>\n",
       "      <th>Work_phone</th>\n",
       "      <th>Phone</th>\n",
       "      <th>Email</th>\n",
       "      <th>Unemployed</th>\n",
       "      <th>Num_children</th>\n",
       "      <th>Num_family</th>\n",
       "      <th>Account_length</th>\n",
       "      <th>Total_income</th>\n",
       "      <th>Age</th>\n",
       "      <th>Years_employed</th>\n",
       "      <th>Income_type</th>\n",
       "      <th>Education_type</th>\n",
       "      <th>Family_status</th>\n",
       "      <th>Housing_type</th>\n",
       "      <th>Occupation_type</th>\n",
       "      <th>Target</th>\n",
       "    </tr>\n",
       "  </thead>\n",
       "  <tbody>\n",
       "    <tr>\n",
       "      <th>0</th>\n",
       "      <td>5008804</td>\n",
       "      <td>1</td>\n",
       "      <td>1</td>\n",
       "      <td>1</td>\n",
       "      <td>1</td>\n",
       "      <td>0</td>\n",
       "      <td>0</td>\n",
       "      <td>0</td>\n",
       "      <td>0</td>\n",
       "      <td>2</td>\n",
       "      <td>15</td>\n",
       "      <td>427500.0</td>\n",
       "      <td>32.868574</td>\n",
       "      <td>12.435574</td>\n",
       "      <td>4</td>\n",
       "      <td>1</td>\n",
       "      <td>0</td>\n",
       "      <td>4</td>\n",
       "      <td>12</td>\n",
       "      <td>1</td>\n",
       "    </tr>\n",
       "    <tr>\n",
       "      <th>1</th>\n",
       "      <td>5008806</td>\n",
       "      <td>1</td>\n",
       "      <td>1</td>\n",
       "      <td>1</td>\n",
       "      <td>0</td>\n",
       "      <td>0</td>\n",
       "      <td>0</td>\n",
       "      <td>0</td>\n",
       "      <td>0</td>\n",
       "      <td>2</td>\n",
       "      <td>29</td>\n",
       "      <td>112500.0</td>\n",
       "      <td>58.793815</td>\n",
       "      <td>3.104787</td>\n",
       "      <td>4</td>\n",
       "      <td>4</td>\n",
       "      <td>1</td>\n",
       "      <td>1</td>\n",
       "      <td>17</td>\n",
       "      <td>0</td>\n",
       "    </tr>\n",
       "    <tr>\n",
       "      <th>2</th>\n",
       "      <td>5008808</td>\n",
       "      <td>0</td>\n",
       "      <td>0</td>\n",
       "      <td>1</td>\n",
       "      <td>0</td>\n",
       "      <td>1</td>\n",
       "      <td>1</td>\n",
       "      <td>0</td>\n",
       "      <td>0</td>\n",
       "      <td>1</td>\n",
       "      <td>4</td>\n",
       "      <td>270000.0</td>\n",
       "      <td>52.321403</td>\n",
       "      <td>8.353354</td>\n",
       "      <td>0</td>\n",
       "      <td>4</td>\n",
       "      <td>3</td>\n",
       "      <td>1</td>\n",
       "      <td>15</td>\n",
       "      <td>0</td>\n",
       "    </tr>\n",
       "    <tr>\n",
       "      <th>3</th>\n",
       "      <td>5008812</td>\n",
       "      <td>0</td>\n",
       "      <td>0</td>\n",
       "      <td>1</td>\n",
       "      <td>0</td>\n",
       "      <td>0</td>\n",
       "      <td>0</td>\n",
       "      <td>1</td>\n",
       "      <td>0</td>\n",
       "      <td>1</td>\n",
       "      <td>20</td>\n",
       "      <td>283500.0</td>\n",
       "      <td>61.504343</td>\n",
       "      <td>0.000000</td>\n",
       "      <td>1</td>\n",
       "      <td>1</td>\n",
       "      <td>2</td>\n",
       "      <td>1</td>\n",
       "      <td>12</td>\n",
       "      <td>0</td>\n",
       "    </tr>\n",
       "    <tr>\n",
       "      <th>4</th>\n",
       "      <td>5008815</td>\n",
       "      <td>1</td>\n",
       "      <td>1</td>\n",
       "      <td>1</td>\n",
       "      <td>1</td>\n",
       "      <td>1</td>\n",
       "      <td>1</td>\n",
       "      <td>0</td>\n",
       "      <td>0</td>\n",
       "      <td>2</td>\n",
       "      <td>5</td>\n",
       "      <td>270000.0</td>\n",
       "      <td>46.193967</td>\n",
       "      <td>2.105450</td>\n",
       "      <td>4</td>\n",
       "      <td>1</td>\n",
       "      <td>1</td>\n",
       "      <td>1</td>\n",
       "      <td>0</td>\n",
       "      <td>0</td>\n",
       "    </tr>\n",
       "    <tr>\n",
       "      <th>...</th>\n",
       "      <td>...</td>\n",
       "      <td>...</td>\n",
       "      <td>...</td>\n",
       "      <td>...</td>\n",
       "      <td>...</td>\n",
       "      <td>...</td>\n",
       "      <td>...</td>\n",
       "      <td>...</td>\n",
       "      <td>...</td>\n",
       "      <td>...</td>\n",
       "      <td>...</td>\n",
       "      <td>...</td>\n",
       "      <td>...</td>\n",
       "      <td>...</td>\n",
       "      <td>...</td>\n",
       "      <td>...</td>\n",
       "      <td>...</td>\n",
       "      <td>...</td>\n",
       "      <td>...</td>\n",
       "      <td>...</td>\n",
       "    </tr>\n",
       "    <tr>\n",
       "      <th>9704</th>\n",
       "      <td>5148694</td>\n",
       "      <td>0</td>\n",
       "      <td>0</td>\n",
       "      <td>0</td>\n",
       "      <td>0</td>\n",
       "      <td>0</td>\n",
       "      <td>0</td>\n",
       "      <td>0</td>\n",
       "      <td>0</td>\n",
       "      <td>2</td>\n",
       "      <td>20</td>\n",
       "      <td>180000.0</td>\n",
       "      <td>56.400884</td>\n",
       "      <td>0.542106</td>\n",
       "      <td>1</td>\n",
       "      <td>4</td>\n",
       "      <td>0</td>\n",
       "      <td>2</td>\n",
       "      <td>8</td>\n",
       "      <td>1</td>\n",
       "    </tr>\n",
       "    <tr>\n",
       "      <th>9705</th>\n",
       "      <td>5149055</td>\n",
       "      <td>0</td>\n",
       "      <td>0</td>\n",
       "      <td>1</td>\n",
       "      <td>1</td>\n",
       "      <td>1</td>\n",
       "      <td>0</td>\n",
       "      <td>0</td>\n",
       "      <td>0</td>\n",
       "      <td>2</td>\n",
       "      <td>19</td>\n",
       "      <td>112500.0</td>\n",
       "      <td>43.360233</td>\n",
       "      <td>7.375921</td>\n",
       "      <td>0</td>\n",
       "      <td>4</td>\n",
       "      <td>1</td>\n",
       "      <td>1</td>\n",
       "      <td>12</td>\n",
       "      <td>1</td>\n",
       "    </tr>\n",
       "    <tr>\n",
       "      <th>9706</th>\n",
       "      <td>5149729</td>\n",
       "      <td>1</td>\n",
       "      <td>1</td>\n",
       "      <td>1</td>\n",
       "      <td>0</td>\n",
       "      <td>0</td>\n",
       "      <td>0</td>\n",
       "      <td>0</td>\n",
       "      <td>0</td>\n",
       "      <td>2</td>\n",
       "      <td>21</td>\n",
       "      <td>90000.0</td>\n",
       "      <td>52.296762</td>\n",
       "      <td>4.711938</td>\n",
       "      <td>4</td>\n",
       "      <td>4</td>\n",
       "      <td>1</td>\n",
       "      <td>1</td>\n",
       "      <td>12</td>\n",
       "      <td>1</td>\n",
       "    </tr>\n",
       "    <tr>\n",
       "      <th>9707</th>\n",
       "      <td>5149838</td>\n",
       "      <td>0</td>\n",
       "      <td>0</td>\n",
       "      <td>1</td>\n",
       "      <td>0</td>\n",
       "      <td>1</td>\n",
       "      <td>1</td>\n",
       "      <td>0</td>\n",
       "      <td>0</td>\n",
       "      <td>2</td>\n",
       "      <td>32</td>\n",
       "      <td>157500.0</td>\n",
       "      <td>33.914454</td>\n",
       "      <td>3.627727</td>\n",
       "      <td>1</td>\n",
       "      <td>1</td>\n",
       "      <td>1</td>\n",
       "      <td>1</td>\n",
       "      <td>11</td>\n",
       "      <td>1</td>\n",
       "    </tr>\n",
       "    <tr>\n",
       "      <th>9708</th>\n",
       "      <td>5150337</td>\n",
       "      <td>1</td>\n",
       "      <td>0</td>\n",
       "      <td>1</td>\n",
       "      <td>0</td>\n",
       "      <td>0</td>\n",
       "      <td>0</td>\n",
       "      <td>0</td>\n",
       "      <td>0</td>\n",
       "      <td>1</td>\n",
       "      <td>13</td>\n",
       "      <td>112500.0</td>\n",
       "      <td>25.155890</td>\n",
       "      <td>3.266323</td>\n",
       "      <td>4</td>\n",
       "      <td>4</td>\n",
       "      <td>3</td>\n",
       "      <td>4</td>\n",
       "      <td>8</td>\n",
       "      <td>1</td>\n",
       "    </tr>\n",
       "  </tbody>\n",
       "</table>\n",
       "<p>9709 rows × 20 columns</p>\n",
       "</div>"
      ],
      "text/plain": [
       "           ID  Gender  Own_car  Own_property  Work_phone  Phone  Email  \\\n",
       "0     5008804       1        1             1           1      0      0   \n",
       "1     5008806       1        1             1           0      0      0   \n",
       "2     5008808       0        0             1           0      1      1   \n",
       "3     5008812       0        0             1           0      0      0   \n",
       "4     5008815       1        1             1           1      1      1   \n",
       "...       ...     ...      ...           ...         ...    ...    ...   \n",
       "9704  5148694       0        0             0           0      0      0   \n",
       "9705  5149055       0        0             1           1      1      0   \n",
       "9706  5149729       1        1             1           0      0      0   \n",
       "9707  5149838       0        0             1           0      1      1   \n",
       "9708  5150337       1        0             1           0      0      0   \n",
       "\n",
       "      Unemployed  Num_children  Num_family  Account_length  Total_income  \\\n",
       "0              0             0           2              15      427500.0   \n",
       "1              0             0           2              29      112500.0   \n",
       "2              0             0           1               4      270000.0   \n",
       "3              1             0           1              20      283500.0   \n",
       "4              0             0           2               5      270000.0   \n",
       "...          ...           ...         ...             ...           ...   \n",
       "9704           0             0           2              20      180000.0   \n",
       "9705           0             0           2              19      112500.0   \n",
       "9706           0             0           2              21       90000.0   \n",
       "9707           0             0           2              32      157500.0   \n",
       "9708           0             0           1              13      112500.0   \n",
       "\n",
       "            Age  Years_employed  Income_type  Education_type  Family_status  \\\n",
       "0     32.868574       12.435574            4               1              0   \n",
       "1     58.793815        3.104787            4               4              1   \n",
       "2     52.321403        8.353354            0               4              3   \n",
       "3     61.504343        0.000000            1               1              2   \n",
       "4     46.193967        2.105450            4               1              1   \n",
       "...         ...             ...          ...             ...            ...   \n",
       "9704  56.400884        0.542106            1               4              0   \n",
       "9705  43.360233        7.375921            0               4              1   \n",
       "9706  52.296762        4.711938            4               4              1   \n",
       "9707  33.914454        3.627727            1               1              1   \n",
       "9708  25.155890        3.266323            4               4              3   \n",
       "\n",
       "      Housing_type  Occupation_type  Target  \n",
       "0                4               12       1  \n",
       "1                1               17       0  \n",
       "2                1               15       0  \n",
       "3                1               12       0  \n",
       "4                1                0       0  \n",
       "...            ...              ...     ...  \n",
       "9704             2                8       1  \n",
       "9705             1               12       1  \n",
       "9706             1               12       1  \n",
       "9707             1               11       1  \n",
       "9708             4                8       1  \n",
       "\n",
       "[9709 rows x 20 columns]"
      ]
     },
     "execution_count": 26,
     "metadata": {},
     "output_type": "execute_result"
    }
   ],
   "source": [
    "new_df"
   ]
  },
  {
   "cell_type": "code",
   "execution_count": null,
   "id": "8a7a802f",
   "metadata": {},
   "outputs": [],
   "source": []
  },
  {
   "cell_type": "code",
   "execution_count": null,
   "id": "f25be5fd",
   "metadata": {},
   "outputs": [],
   "source": []
  },
  {
   "cell_type": "code",
   "execution_count": 27,
   "id": "4f53acec",
   "metadata": {},
   "outputs": [
    {
     "data": {
      "text/html": [
       "<div>\n",
       "<style scoped>\n",
       "    .dataframe tbody tr th:only-of-type {\n",
       "        vertical-align: middle;\n",
       "    }\n",
       "\n",
       "    .dataframe tbody tr th {\n",
       "        vertical-align: top;\n",
       "    }\n",
       "\n",
       "    .dataframe thead th {\n",
       "        text-align: right;\n",
       "    }\n",
       "</style>\n",
       "<table border=\"1\" class=\"dataframe\">\n",
       "  <thead>\n",
       "    <tr style=\"text-align: right;\">\n",
       "      <th></th>\n",
       "      <th>ID</th>\n",
       "      <th>Gender</th>\n",
       "      <th>Own_car</th>\n",
       "      <th>Own_property</th>\n",
       "      <th>Work_phone</th>\n",
       "      <th>Phone</th>\n",
       "      <th>Email</th>\n",
       "      <th>Unemployed</th>\n",
       "      <th>Num_children</th>\n",
       "      <th>Num_family</th>\n",
       "      <th>Account_length</th>\n",
       "      <th>Total_income</th>\n",
       "      <th>Age</th>\n",
       "      <th>Years_employed</th>\n",
       "      <th>Income_type</th>\n",
       "      <th>Education_type</th>\n",
       "      <th>Family_status</th>\n",
       "      <th>Housing_type</th>\n",
       "      <th>Occupation_type</th>\n",
       "      <th>Target</th>\n",
       "    </tr>\n",
       "  </thead>\n",
       "  <tbody>\n",
       "    <tr>\n",
       "      <th>0</th>\n",
       "      <td>5008804</td>\n",
       "      <td>1</td>\n",
       "      <td>1</td>\n",
       "      <td>1</td>\n",
       "      <td>1</td>\n",
       "      <td>0</td>\n",
       "      <td>0</td>\n",
       "      <td>0</td>\n",
       "      <td>0</td>\n",
       "      <td>2</td>\n",
       "      <td>15</td>\n",
       "      <td>427500</td>\n",
       "      <td>32</td>\n",
       "      <td>12</td>\n",
       "      <td>4</td>\n",
       "      <td>1</td>\n",
       "      <td>0</td>\n",
       "      <td>4</td>\n",
       "      <td>12</td>\n",
       "      <td>1</td>\n",
       "    </tr>\n",
       "    <tr>\n",
       "      <th>1</th>\n",
       "      <td>5008806</td>\n",
       "      <td>1</td>\n",
       "      <td>1</td>\n",
       "      <td>1</td>\n",
       "      <td>0</td>\n",
       "      <td>0</td>\n",
       "      <td>0</td>\n",
       "      <td>0</td>\n",
       "      <td>0</td>\n",
       "      <td>2</td>\n",
       "      <td>29</td>\n",
       "      <td>112500</td>\n",
       "      <td>58</td>\n",
       "      <td>3</td>\n",
       "      <td>4</td>\n",
       "      <td>4</td>\n",
       "      <td>1</td>\n",
       "      <td>1</td>\n",
       "      <td>17</td>\n",
       "      <td>0</td>\n",
       "    </tr>\n",
       "    <tr>\n",
       "      <th>2</th>\n",
       "      <td>5008808</td>\n",
       "      <td>0</td>\n",
       "      <td>0</td>\n",
       "      <td>1</td>\n",
       "      <td>0</td>\n",
       "      <td>1</td>\n",
       "      <td>1</td>\n",
       "      <td>0</td>\n",
       "      <td>0</td>\n",
       "      <td>1</td>\n",
       "      <td>4</td>\n",
       "      <td>270000</td>\n",
       "      <td>52</td>\n",
       "      <td>8</td>\n",
       "      <td>0</td>\n",
       "      <td>4</td>\n",
       "      <td>3</td>\n",
       "      <td>1</td>\n",
       "      <td>15</td>\n",
       "      <td>0</td>\n",
       "    </tr>\n",
       "    <tr>\n",
       "      <th>3</th>\n",
       "      <td>5008812</td>\n",
       "      <td>0</td>\n",
       "      <td>0</td>\n",
       "      <td>1</td>\n",
       "      <td>0</td>\n",
       "      <td>0</td>\n",
       "      <td>0</td>\n",
       "      <td>1</td>\n",
       "      <td>0</td>\n",
       "      <td>1</td>\n",
       "      <td>20</td>\n",
       "      <td>283500</td>\n",
       "      <td>61</td>\n",
       "      <td>0</td>\n",
       "      <td>1</td>\n",
       "      <td>1</td>\n",
       "      <td>2</td>\n",
       "      <td>1</td>\n",
       "      <td>12</td>\n",
       "      <td>0</td>\n",
       "    </tr>\n",
       "    <tr>\n",
       "      <th>4</th>\n",
       "      <td>5008815</td>\n",
       "      <td>1</td>\n",
       "      <td>1</td>\n",
       "      <td>1</td>\n",
       "      <td>1</td>\n",
       "      <td>1</td>\n",
       "      <td>1</td>\n",
       "      <td>0</td>\n",
       "      <td>0</td>\n",
       "      <td>2</td>\n",
       "      <td>5</td>\n",
       "      <td>270000</td>\n",
       "      <td>46</td>\n",
       "      <td>2</td>\n",
       "      <td>4</td>\n",
       "      <td>1</td>\n",
       "      <td>1</td>\n",
       "      <td>1</td>\n",
       "      <td>0</td>\n",
       "      <td>0</td>\n",
       "    </tr>\n",
       "    <tr>\n",
       "      <th>...</th>\n",
       "      <td>...</td>\n",
       "      <td>...</td>\n",
       "      <td>...</td>\n",
       "      <td>...</td>\n",
       "      <td>...</td>\n",
       "      <td>...</td>\n",
       "      <td>...</td>\n",
       "      <td>...</td>\n",
       "      <td>...</td>\n",
       "      <td>...</td>\n",
       "      <td>...</td>\n",
       "      <td>...</td>\n",
       "      <td>...</td>\n",
       "      <td>...</td>\n",
       "      <td>...</td>\n",
       "      <td>...</td>\n",
       "      <td>...</td>\n",
       "      <td>...</td>\n",
       "      <td>...</td>\n",
       "      <td>...</td>\n",
       "    </tr>\n",
       "    <tr>\n",
       "      <th>9704</th>\n",
       "      <td>5148694</td>\n",
       "      <td>0</td>\n",
       "      <td>0</td>\n",
       "      <td>0</td>\n",
       "      <td>0</td>\n",
       "      <td>0</td>\n",
       "      <td>0</td>\n",
       "      <td>0</td>\n",
       "      <td>0</td>\n",
       "      <td>2</td>\n",
       "      <td>20</td>\n",
       "      <td>180000</td>\n",
       "      <td>56</td>\n",
       "      <td>0</td>\n",
       "      <td>1</td>\n",
       "      <td>4</td>\n",
       "      <td>0</td>\n",
       "      <td>2</td>\n",
       "      <td>8</td>\n",
       "      <td>1</td>\n",
       "    </tr>\n",
       "    <tr>\n",
       "      <th>9705</th>\n",
       "      <td>5149055</td>\n",
       "      <td>0</td>\n",
       "      <td>0</td>\n",
       "      <td>1</td>\n",
       "      <td>1</td>\n",
       "      <td>1</td>\n",
       "      <td>0</td>\n",
       "      <td>0</td>\n",
       "      <td>0</td>\n",
       "      <td>2</td>\n",
       "      <td>19</td>\n",
       "      <td>112500</td>\n",
       "      <td>43</td>\n",
       "      <td>7</td>\n",
       "      <td>0</td>\n",
       "      <td>4</td>\n",
       "      <td>1</td>\n",
       "      <td>1</td>\n",
       "      <td>12</td>\n",
       "      <td>1</td>\n",
       "    </tr>\n",
       "    <tr>\n",
       "      <th>9706</th>\n",
       "      <td>5149729</td>\n",
       "      <td>1</td>\n",
       "      <td>1</td>\n",
       "      <td>1</td>\n",
       "      <td>0</td>\n",
       "      <td>0</td>\n",
       "      <td>0</td>\n",
       "      <td>0</td>\n",
       "      <td>0</td>\n",
       "      <td>2</td>\n",
       "      <td>21</td>\n",
       "      <td>90000</td>\n",
       "      <td>52</td>\n",
       "      <td>4</td>\n",
       "      <td>4</td>\n",
       "      <td>4</td>\n",
       "      <td>1</td>\n",
       "      <td>1</td>\n",
       "      <td>12</td>\n",
       "      <td>1</td>\n",
       "    </tr>\n",
       "    <tr>\n",
       "      <th>9707</th>\n",
       "      <td>5149838</td>\n",
       "      <td>0</td>\n",
       "      <td>0</td>\n",
       "      <td>1</td>\n",
       "      <td>0</td>\n",
       "      <td>1</td>\n",
       "      <td>1</td>\n",
       "      <td>0</td>\n",
       "      <td>0</td>\n",
       "      <td>2</td>\n",
       "      <td>32</td>\n",
       "      <td>157500</td>\n",
       "      <td>33</td>\n",
       "      <td>3</td>\n",
       "      <td>1</td>\n",
       "      <td>1</td>\n",
       "      <td>1</td>\n",
       "      <td>1</td>\n",
       "      <td>11</td>\n",
       "      <td>1</td>\n",
       "    </tr>\n",
       "    <tr>\n",
       "      <th>9708</th>\n",
       "      <td>5150337</td>\n",
       "      <td>1</td>\n",
       "      <td>0</td>\n",
       "      <td>1</td>\n",
       "      <td>0</td>\n",
       "      <td>0</td>\n",
       "      <td>0</td>\n",
       "      <td>0</td>\n",
       "      <td>0</td>\n",
       "      <td>1</td>\n",
       "      <td>13</td>\n",
       "      <td>112500</td>\n",
       "      <td>25</td>\n",
       "      <td>3</td>\n",
       "      <td>4</td>\n",
       "      <td>4</td>\n",
       "      <td>3</td>\n",
       "      <td>4</td>\n",
       "      <td>8</td>\n",
       "      <td>1</td>\n",
       "    </tr>\n",
       "  </tbody>\n",
       "</table>\n",
       "<p>9709 rows × 20 columns</p>\n",
       "</div>"
      ],
      "text/plain": [
       "           ID  Gender  Own_car  Own_property  Work_phone  Phone  Email  \\\n",
       "0     5008804       1        1             1           1      0      0   \n",
       "1     5008806       1        1             1           0      0      0   \n",
       "2     5008808       0        0             1           0      1      1   \n",
       "3     5008812       0        0             1           0      0      0   \n",
       "4     5008815       1        1             1           1      1      1   \n",
       "...       ...     ...      ...           ...         ...    ...    ...   \n",
       "9704  5148694       0        0             0           0      0      0   \n",
       "9705  5149055       0        0             1           1      1      0   \n",
       "9706  5149729       1        1             1           0      0      0   \n",
       "9707  5149838       0        0             1           0      1      1   \n",
       "9708  5150337       1        0             1           0      0      0   \n",
       "\n",
       "      Unemployed  Num_children  Num_family  Account_length  Total_income  Age  \\\n",
       "0              0             0           2              15        427500   32   \n",
       "1              0             0           2              29        112500   58   \n",
       "2              0             0           1               4        270000   52   \n",
       "3              1             0           1              20        283500   61   \n",
       "4              0             0           2               5        270000   46   \n",
       "...          ...           ...         ...             ...           ...  ...   \n",
       "9704           0             0           2              20        180000   56   \n",
       "9705           0             0           2              19        112500   43   \n",
       "9706           0             0           2              21         90000   52   \n",
       "9707           0             0           2              32        157500   33   \n",
       "9708           0             0           1              13        112500   25   \n",
       "\n",
       "      Years_employed  Income_type  Education_type  Family_status  \\\n",
       "0                 12            4               1              0   \n",
       "1                  3            4               4              1   \n",
       "2                  8            0               4              3   \n",
       "3                  0            1               1              2   \n",
       "4                  2            4               1              1   \n",
       "...              ...          ...             ...            ...   \n",
       "9704               0            1               4              0   \n",
       "9705               7            0               4              1   \n",
       "9706               4            4               4              1   \n",
       "9707               3            1               1              1   \n",
       "9708               3            4               4              3   \n",
       "\n",
       "      Housing_type  Occupation_type  Target  \n",
       "0                4               12       1  \n",
       "1                1               17       0  \n",
       "2                1               15       0  \n",
       "3                1               12       0  \n",
       "4                1                0       0  \n",
       "...            ...              ...     ...  \n",
       "9704             2                8       1  \n",
       "9705             1               12       1  \n",
       "9706             1               12       1  \n",
       "9707             1               11       1  \n",
       "9708             4                8       1  \n",
       "\n",
       "[9709 rows x 20 columns]"
      ]
     },
     "execution_count": 27,
     "metadata": {},
     "output_type": "execute_result"
    }
   ],
   "source": [
    "# float 타입 변수를 정수형으로 변환\n",
    "float_cols = new_df.select_dtypes(include=['float']).columns\n",
    "for col in float_cols:\n",
    "    new_df[col] = new_df[col].astype(int)\n",
    "    \n",
    "new_df"
   ]
  },
  {
   "cell_type": "code",
   "execution_count": null,
   "id": "ed376762",
   "metadata": {},
   "outputs": [],
   "source": []
  },
  {
   "cell_type": "code",
   "execution_count": null,
   "id": "1e0216b6",
   "metadata": {},
   "outputs": [],
   "source": []
  },
  {
   "cell_type": "code",
   "execution_count": null,
   "id": "aaed8da8",
   "metadata": {},
   "outputs": [],
   "source": []
  },
  {
   "cell_type": "code",
   "execution_count": 28,
   "id": "2ab233f4",
   "metadata": {
    "execution": {
     "iopub.execute_input": "2022-03-09T17:36:54.156287Z",
     "iopub.status.busy": "2022-03-09T17:36:54.155622Z",
     "iopub.status.idle": "2022-03-09T17:36:54.277839Z",
     "shell.execute_reply": "2022-03-09T17:36:54.278352Z",
     "shell.execute_reply.started": "2022-03-09T16:41:39.818387Z"
    },
    "papermill": {
     "duration": 0.166205,
     "end_time": "2022-03-09T17:36:54.278538",
     "exception": false,
     "start_time": "2022-03-09T17:36:54.112333",
     "status": "completed"
    },
    "tags": []
   },
   "outputs": [],
   "source": [
    "# # Save to csv\n",
    "new_df.to_csv('clean_data.csv',index=False)"
   ]
  },
  {
   "cell_type": "code",
   "execution_count": 29,
   "id": "7eb3f880",
   "metadata": {},
   "outputs": [
    {
     "data": {
      "text/html": [
       "<div>\n",
       "<style scoped>\n",
       "    .dataframe tbody tr th:only-of-type {\n",
       "        vertical-align: middle;\n",
       "    }\n",
       "\n",
       "    .dataframe tbody tr th {\n",
       "        vertical-align: top;\n",
       "    }\n",
       "\n",
       "    .dataframe thead th {\n",
       "        text-align: right;\n",
       "    }\n",
       "</style>\n",
       "<table border=\"1\" class=\"dataframe\">\n",
       "  <thead>\n",
       "    <tr style=\"text-align: right;\">\n",
       "      <th></th>\n",
       "      <th>ID</th>\n",
       "      <th>Gender</th>\n",
       "      <th>Own_car</th>\n",
       "      <th>Own_property</th>\n",
       "      <th>Work_phone</th>\n",
       "      <th>Phone</th>\n",
       "      <th>Email</th>\n",
       "      <th>Unemployed</th>\n",
       "      <th>Num_children</th>\n",
       "      <th>Num_family</th>\n",
       "      <th>Account_length</th>\n",
       "      <th>Total_income</th>\n",
       "      <th>Age</th>\n",
       "      <th>Years_employed</th>\n",
       "      <th>Income_type</th>\n",
       "      <th>Education_type</th>\n",
       "      <th>Family_status</th>\n",
       "      <th>Housing_type</th>\n",
       "      <th>Occupation_type</th>\n",
       "      <th>Target</th>\n",
       "    </tr>\n",
       "  </thead>\n",
       "  <tbody>\n",
       "    <tr>\n",
       "      <th>0</th>\n",
       "      <td>5008804</td>\n",
       "      <td>1</td>\n",
       "      <td>1</td>\n",
       "      <td>1</td>\n",
       "      <td>1</td>\n",
       "      <td>0</td>\n",
       "      <td>0</td>\n",
       "      <td>0</td>\n",
       "      <td>0</td>\n",
       "      <td>2</td>\n",
       "      <td>15</td>\n",
       "      <td>427500</td>\n",
       "      <td>32</td>\n",
       "      <td>12</td>\n",
       "      <td>4</td>\n",
       "      <td>1</td>\n",
       "      <td>0</td>\n",
       "      <td>4</td>\n",
       "      <td>12</td>\n",
       "      <td>1</td>\n",
       "    </tr>\n",
       "    <tr>\n",
       "      <th>1</th>\n",
       "      <td>5008806</td>\n",
       "      <td>1</td>\n",
       "      <td>1</td>\n",
       "      <td>1</td>\n",
       "      <td>0</td>\n",
       "      <td>0</td>\n",
       "      <td>0</td>\n",
       "      <td>0</td>\n",
       "      <td>0</td>\n",
       "      <td>2</td>\n",
       "      <td>29</td>\n",
       "      <td>112500</td>\n",
       "      <td>58</td>\n",
       "      <td>3</td>\n",
       "      <td>4</td>\n",
       "      <td>4</td>\n",
       "      <td>1</td>\n",
       "      <td>1</td>\n",
       "      <td>17</td>\n",
       "      <td>0</td>\n",
       "    </tr>\n",
       "    <tr>\n",
       "      <th>2</th>\n",
       "      <td>5008808</td>\n",
       "      <td>0</td>\n",
       "      <td>0</td>\n",
       "      <td>1</td>\n",
       "      <td>0</td>\n",
       "      <td>1</td>\n",
       "      <td>1</td>\n",
       "      <td>0</td>\n",
       "      <td>0</td>\n",
       "      <td>1</td>\n",
       "      <td>4</td>\n",
       "      <td>270000</td>\n",
       "      <td>52</td>\n",
       "      <td>8</td>\n",
       "      <td>0</td>\n",
       "      <td>4</td>\n",
       "      <td>3</td>\n",
       "      <td>1</td>\n",
       "      <td>15</td>\n",
       "      <td>0</td>\n",
       "    </tr>\n",
       "    <tr>\n",
       "      <th>3</th>\n",
       "      <td>5008812</td>\n",
       "      <td>0</td>\n",
       "      <td>0</td>\n",
       "      <td>1</td>\n",
       "      <td>0</td>\n",
       "      <td>0</td>\n",
       "      <td>0</td>\n",
       "      <td>1</td>\n",
       "      <td>0</td>\n",
       "      <td>1</td>\n",
       "      <td>20</td>\n",
       "      <td>283500</td>\n",
       "      <td>61</td>\n",
       "      <td>0</td>\n",
       "      <td>1</td>\n",
       "      <td>1</td>\n",
       "      <td>2</td>\n",
       "      <td>1</td>\n",
       "      <td>12</td>\n",
       "      <td>0</td>\n",
       "    </tr>\n",
       "    <tr>\n",
       "      <th>4</th>\n",
       "      <td>5008815</td>\n",
       "      <td>1</td>\n",
       "      <td>1</td>\n",
       "      <td>1</td>\n",
       "      <td>1</td>\n",
       "      <td>1</td>\n",
       "      <td>1</td>\n",
       "      <td>0</td>\n",
       "      <td>0</td>\n",
       "      <td>2</td>\n",
       "      <td>5</td>\n",
       "      <td>270000</td>\n",
       "      <td>46</td>\n",
       "      <td>2</td>\n",
       "      <td>4</td>\n",
       "      <td>1</td>\n",
       "      <td>1</td>\n",
       "      <td>1</td>\n",
       "      <td>0</td>\n",
       "      <td>0</td>\n",
       "    </tr>\n",
       "    <tr>\n",
       "      <th>...</th>\n",
       "      <td>...</td>\n",
       "      <td>...</td>\n",
       "      <td>...</td>\n",
       "      <td>...</td>\n",
       "      <td>...</td>\n",
       "      <td>...</td>\n",
       "      <td>...</td>\n",
       "      <td>...</td>\n",
       "      <td>...</td>\n",
       "      <td>...</td>\n",
       "      <td>...</td>\n",
       "      <td>...</td>\n",
       "      <td>...</td>\n",
       "      <td>...</td>\n",
       "      <td>...</td>\n",
       "      <td>...</td>\n",
       "      <td>...</td>\n",
       "      <td>...</td>\n",
       "      <td>...</td>\n",
       "      <td>...</td>\n",
       "    </tr>\n",
       "    <tr>\n",
       "      <th>9704</th>\n",
       "      <td>5148694</td>\n",
       "      <td>0</td>\n",
       "      <td>0</td>\n",
       "      <td>0</td>\n",
       "      <td>0</td>\n",
       "      <td>0</td>\n",
       "      <td>0</td>\n",
       "      <td>0</td>\n",
       "      <td>0</td>\n",
       "      <td>2</td>\n",
       "      <td>20</td>\n",
       "      <td>180000</td>\n",
       "      <td>56</td>\n",
       "      <td>0</td>\n",
       "      <td>1</td>\n",
       "      <td>4</td>\n",
       "      <td>0</td>\n",
       "      <td>2</td>\n",
       "      <td>8</td>\n",
       "      <td>1</td>\n",
       "    </tr>\n",
       "    <tr>\n",
       "      <th>9705</th>\n",
       "      <td>5149055</td>\n",
       "      <td>0</td>\n",
       "      <td>0</td>\n",
       "      <td>1</td>\n",
       "      <td>1</td>\n",
       "      <td>1</td>\n",
       "      <td>0</td>\n",
       "      <td>0</td>\n",
       "      <td>0</td>\n",
       "      <td>2</td>\n",
       "      <td>19</td>\n",
       "      <td>112500</td>\n",
       "      <td>43</td>\n",
       "      <td>7</td>\n",
       "      <td>0</td>\n",
       "      <td>4</td>\n",
       "      <td>1</td>\n",
       "      <td>1</td>\n",
       "      <td>12</td>\n",
       "      <td>1</td>\n",
       "    </tr>\n",
       "    <tr>\n",
       "      <th>9706</th>\n",
       "      <td>5149729</td>\n",
       "      <td>1</td>\n",
       "      <td>1</td>\n",
       "      <td>1</td>\n",
       "      <td>0</td>\n",
       "      <td>0</td>\n",
       "      <td>0</td>\n",
       "      <td>0</td>\n",
       "      <td>0</td>\n",
       "      <td>2</td>\n",
       "      <td>21</td>\n",
       "      <td>90000</td>\n",
       "      <td>52</td>\n",
       "      <td>4</td>\n",
       "      <td>4</td>\n",
       "      <td>4</td>\n",
       "      <td>1</td>\n",
       "      <td>1</td>\n",
       "      <td>12</td>\n",
       "      <td>1</td>\n",
       "    </tr>\n",
       "    <tr>\n",
       "      <th>9707</th>\n",
       "      <td>5149838</td>\n",
       "      <td>0</td>\n",
       "      <td>0</td>\n",
       "      <td>1</td>\n",
       "      <td>0</td>\n",
       "      <td>1</td>\n",
       "      <td>1</td>\n",
       "      <td>0</td>\n",
       "      <td>0</td>\n",
       "      <td>2</td>\n",
       "      <td>32</td>\n",
       "      <td>157500</td>\n",
       "      <td>33</td>\n",
       "      <td>3</td>\n",
       "      <td>1</td>\n",
       "      <td>1</td>\n",
       "      <td>1</td>\n",
       "      <td>1</td>\n",
       "      <td>11</td>\n",
       "      <td>1</td>\n",
       "    </tr>\n",
       "    <tr>\n",
       "      <th>9708</th>\n",
       "      <td>5150337</td>\n",
       "      <td>1</td>\n",
       "      <td>0</td>\n",
       "      <td>1</td>\n",
       "      <td>0</td>\n",
       "      <td>0</td>\n",
       "      <td>0</td>\n",
       "      <td>0</td>\n",
       "      <td>0</td>\n",
       "      <td>1</td>\n",
       "      <td>13</td>\n",
       "      <td>112500</td>\n",
       "      <td>25</td>\n",
       "      <td>3</td>\n",
       "      <td>4</td>\n",
       "      <td>4</td>\n",
       "      <td>3</td>\n",
       "      <td>4</td>\n",
       "      <td>8</td>\n",
       "      <td>1</td>\n",
       "    </tr>\n",
       "  </tbody>\n",
       "</table>\n",
       "<p>9709 rows × 20 columns</p>\n",
       "</div>"
      ],
      "text/plain": [
       "           ID  Gender  Own_car  Own_property  Work_phone  Phone  Email  \\\n",
       "0     5008804       1        1             1           1      0      0   \n",
       "1     5008806       1        1             1           0      0      0   \n",
       "2     5008808       0        0             1           0      1      1   \n",
       "3     5008812       0        0             1           0      0      0   \n",
       "4     5008815       1        1             1           1      1      1   \n",
       "...       ...     ...      ...           ...         ...    ...    ...   \n",
       "9704  5148694       0        0             0           0      0      0   \n",
       "9705  5149055       0        0             1           1      1      0   \n",
       "9706  5149729       1        1             1           0      0      0   \n",
       "9707  5149838       0        0             1           0      1      1   \n",
       "9708  5150337       1        0             1           0      0      0   \n",
       "\n",
       "      Unemployed  Num_children  Num_family  Account_length  Total_income  Age  \\\n",
       "0              0             0           2              15        427500   32   \n",
       "1              0             0           2              29        112500   58   \n",
       "2              0             0           1               4        270000   52   \n",
       "3              1             0           1              20        283500   61   \n",
       "4              0             0           2               5        270000   46   \n",
       "...          ...           ...         ...             ...           ...  ...   \n",
       "9704           0             0           2              20        180000   56   \n",
       "9705           0             0           2              19        112500   43   \n",
       "9706           0             0           2              21         90000   52   \n",
       "9707           0             0           2              32        157500   33   \n",
       "9708           0             0           1              13        112500   25   \n",
       "\n",
       "      Years_employed  Income_type  Education_type  Family_status  \\\n",
       "0                 12            4               1              0   \n",
       "1                  3            4               4              1   \n",
       "2                  8            0               4              3   \n",
       "3                  0            1               1              2   \n",
       "4                  2            4               1              1   \n",
       "...              ...          ...             ...            ...   \n",
       "9704               0            1               4              0   \n",
       "9705               7            0               4              1   \n",
       "9706               4            4               4              1   \n",
       "9707               3            1               1              1   \n",
       "9708               3            4               4              3   \n",
       "\n",
       "      Housing_type  Occupation_type  Target  \n",
       "0                4               12       1  \n",
       "1                1               17       0  \n",
       "2                1               15       0  \n",
       "3                1               12       0  \n",
       "4                1                0       0  \n",
       "...            ...              ...     ...  \n",
       "9704             2                8       1  \n",
       "9705             1               12       1  \n",
       "9706             1               12       1  \n",
       "9707             1               11       1  \n",
       "9708             4                8       1  \n",
       "\n",
       "[9709 rows x 20 columns]"
      ]
     },
     "execution_count": 29,
     "metadata": {},
     "output_type": "execute_result"
    }
   ],
   "source": [
    "new_df"
   ]
  },
  {
   "cell_type": "code",
   "execution_count": 30,
   "id": "9cc8f324",
   "metadata": {},
   "outputs": [],
   "source": [
    "from sklearn.model_selection import train_test_split\n",
    "\n",
    "# 종속변수(Target)와 독립변수 분리\n",
    "X = new_df.drop('Target', axis=1)\n",
    "y = new_df['Target']\n",
    "\n",
    "# train, test 세트 분리\n",
    "X_train, X_test, y_train, y_test = train_test_split(X, y, test_size=0.2, random_state=42)"
   ]
  },
  {
   "cell_type": "code",
   "execution_count": 35,
   "id": "e1555993",
   "metadata": {},
   "outputs": [],
   "source": [
    "X_train.to_csv(\"X_train.csv\", index= False)"
   ]
  },
  {
   "cell_type": "code",
   "execution_count": 36,
   "id": "fd28113d",
   "metadata": {},
   "outputs": [],
   "source": [
    "y_train.to_csv(\"y_train.csv\", index= False)"
   ]
  },
  {
   "cell_type": "code",
   "execution_count": 31,
   "id": "1a27d139",
   "metadata": {},
   "outputs": [],
   "source": [
    "X_test.to_csv(\"X_test.csv\", index= False)"
   ]
  },
  {
   "cell_type": "code",
   "execution_count": 32,
   "id": "a2bc6f5b",
   "metadata": {},
   "outputs": [],
   "source": [
    "y_test.to_csv(\"y_test.csv\", index= False)"
   ]
  },
  {
   "cell_type": "code",
   "execution_count": 31,
   "id": "0f1c868b",
   "metadata": {},
   "outputs": [],
   "source": [
    "# # X_train, y_train 합치기\n",
    "# train_data = pd.concat([X_train, y_train], axis=1)\n",
    "\n",
    "# # X_test, y_test 합치기\n",
    "# test_data = pd.concat([X_test, y_test], axis=1)"
   ]
  },
  {
   "cell_type": "code",
   "execution_count": 33,
   "id": "424d340b",
   "metadata": {},
   "outputs": [],
   "source": [
    "# # train_data 저장\n",
    "# train_data.to_csv('train_data.csv', index=False)\n",
    "\n",
    "# # test_data 저장\n",
    "# test_data.to_csv('test_data.csv', index=False)"
   ]
  },
  {
   "cell_type": "code",
   "execution_count": null,
   "id": "1b119827",
   "metadata": {},
   "outputs": [],
   "source": []
  }
 ],
 "metadata": {
  "kernelspec": {
   "display_name": "Python 3 (ipykernel)",
   "language": "python",
   "name": "python3"
  },
  "language_info": {
   "codemirror_mode": {
    "name": "ipython",
    "version": 3
   },
   "file_extension": ".py",
   "mimetype": "text/x-python",
   "name": "python",
   "nbconvert_exporter": "python",
   "pygments_lexer": "ipython3",
   "version": "3.9.13"
  },
  "papermill": {
   "default_parameters": {},
   "duration": 23.141263,
   "end_time": "2022-03-09T17:36:55.131172",
   "environment_variables": {},
   "exception": null,
   "input_path": "__notebook__.ipynb",
   "output_path": "__notebook__.ipynb",
   "parameters": {},
   "start_time": "2022-03-09T17:36:31.989909",
   "version": "2.3.3"
  }
 },
 "nbformat": 4,
 "nbformat_minor": 5
}
